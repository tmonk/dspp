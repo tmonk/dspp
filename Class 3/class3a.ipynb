{
 "cells": [
  {
   "cell_type": "markdown",
   "id": "b3049161",
   "metadata": {
    "slideshow": {
     "slide_type": "slide"
    }
   },
   "source": [
    "# Introduction to Data Science for Public Policy\n",
    "## Class 3a: Lists\n",
    "## Thomas Monk"
   ]
  },
  {
   "cell_type": "markdown",
   "id": "7d95dfc0",
   "metadata": {
    "slideshow": {
     "slide_type": "slide"
    }
   },
   "source": [
    "# Overview\n",
    "- Yesterday we set up our environment and learnt the basics of Python coding, including variables, functions, and conditionals."
   ]
  },
  {
   "cell_type": "markdown",
   "id": "89a6c072",
   "metadata": {
    "slideshow": {
     "slide_type": "fragment"
    }
   },
   "source": [
    "- We're going to start today with another useful Python data type: the **list**.\n",
    "- Lists will remind us of how we previously understood variables in Stata: a vector of items whose order has some meaning."
   ]
  },
  {
   "cell_type": "markdown",
   "id": "3a5435c1",
   "metadata": {
    "slideshow": {
     "slide_type": "slide"
    }
   },
   "source": [
    "## Lists\n",
    "\n",
    "What is a list?"
   ]
  },
  {
   "cell_type": "markdown",
   "id": "279f789d",
   "metadata": {
    "slideshow": {
     "slide_type": "fragment"
    }
   },
   "source": [
    "- A list is an *ordered* sequence of values.\n",
    "\n",
    "We can create a list in the following way:"
   ]
  },
  {
   "cell_type": "code",
   "execution_count": 2,
   "id": "9531e188",
   "metadata": {
    "slideshow": {
     "slide_type": "fragment"
    }
   },
   "outputs": [],
   "source": [
    "primes = [2, 3, 5, 7]"
   ]
  },
  {
   "cell_type": "markdown",
   "id": "ba87a5cb",
   "metadata": {
    "slideshow": {
     "slide_type": "fragment"
    }
   },
   "source": [
    "Notice that the list is defined through the use of square brackets, `[]`, just as the string was defined through quotation marks, `\"\"`."
   ]
  },
  {
   "cell_type": "markdown",
   "id": "04c70339",
   "metadata": {
    "slideshow": {
     "slide_type": "slide"
    }
   },
   "source": [
    "## Lists\n",
    "We can put anything we want into a list."
   ]
  },
  {
   "cell_type": "markdown",
   "id": "a563e839",
   "metadata": {
    "slideshow": {
     "slide_type": "fragment"
    }
   },
   "source": [
    "- Strings"
   ]
  },
  {
   "cell_type": "code",
   "execution_count": 4,
   "id": "c17e6a61",
   "metadata": {
    "slideshow": {
     "slide_type": "fragment"
    }
   },
   "outputs": [],
   "source": [
    "planets = ['Mercury', 'Venus', 'Earth', 'Mars', 'Jupiter', 'Saturn', 'Uranus', 'Neptune']"
   ]
  },
  {
   "cell_type": "markdown",
   "id": "7dea4196",
   "metadata": {
    "slideshow": {
     "slide_type": "fragment"
    }
   },
   "source": [
    "- Integers"
   ]
  },
  {
   "cell_type": "code",
   "execution_count": null,
   "id": "b755ea65",
   "metadata": {
    "slideshow": {
     "slide_type": "fragment"
    }
   },
   "outputs": [],
   "source": [
    "primes = [2, 3, 5, 7]"
   ]
  },
  {
   "cell_type": "markdown",
   "id": "7d3b38fc",
   "metadata": {
    "slideshow": {
     "slide_type": "fragment"
    }
   },
   "source": [
    "- We can even have lists of lists."
   ]
  },
  {
   "cell_type": "code",
   "execution_count": 9,
   "id": "c1fcf291",
   "metadata": {
    "slideshow": {
     "slide_type": "fragment"
    }
   },
   "outputs": [
    {
     "name": "stdout",
     "output_type": "stream",
     "text": [
      "[['J', 'Q', 'K'], ['2', '2', '2'], ['6', 'A', 'K']]\n"
     ]
    }
   ],
   "source": [
    "hands = [\n",
    "    ['J', 'Q', 'K'],\n",
    "    ['2', '2', '2'],\n",
    "    ['6', 'A', 'K'], # (Comma after the last element is optional)\n",
    "]\n",
    "# (I could also have written this on one line, but it can get hard to read)\n",
    "hands = [['J', 'Q', 'K'], ['2', '2', '2'], ['6', 'A', 'K']]\n",
    "print(hands)"
   ]
  },
  {
   "cell_type": "markdown",
   "id": "767f89ad",
   "metadata": {
    "slideshow": {
     "slide_type": "slide"
    }
   },
   "source": [
    "We can store any mix of data types within a list."
   ]
  },
  {
   "cell_type": "code",
   "execution_count": 10,
   "id": "8bd64388",
   "metadata": {
    "slideshow": {
     "slide_type": "fragment"
    }
   },
   "outputs": [
    {
     "name": "stdout",
     "output_type": "stream",
     "text": [
      "[32, 'saturn', <built-in function print>]\n"
     ]
    }
   ],
   "source": [
    "things = [32, 'saturn', print]\n",
    "print(things)"
   ]
  },
  {
   "cell_type": "markdown",
   "id": "0443097e",
   "metadata": {
    "slideshow": {
     "slide_type": "fragment"
    }
   },
   "source": [
    "Notice that we can even store a function within a list."
   ]
  },
  {
   "cell_type": "markdown",
   "id": "d62dba33",
   "metadata": {
    "slideshow": {
     "slide_type": "slide"
    }
   },
   "source": [
    "## List indexing\n",
    "Now we have things in lists, we'll want to *access* them."
   ]
  },
  {
   "cell_type": "markdown",
   "id": "c8bd9387",
   "metadata": {
    "slideshow": {
     "slide_type": "fragment"
    }
   },
   "source": [
    "Python uses *zero-based* indexing. What this means is, the first item in a list is the *0th* item."
   ]
  },
  {
   "cell_type": "code",
   "execution_count": 13,
   "id": "7fefc34b",
   "metadata": {
    "slideshow": {
     "slide_type": "fragment"
    }
   },
   "outputs": [
    {
     "data": {
      "text/plain": [
       "3"
      ]
     },
     "execution_count": 13,
     "metadata": {},
     "output_type": "execute_result"
    }
   ],
   "source": [
    "my_list = [3, 2, 1]\n",
    "my_list[0]"
   ]
  },
  {
   "cell_type": "markdown",
   "id": "426b3b04",
   "metadata": {
    "slideshow": {
     "slide_type": "fragment"
    }
   },
   "source": [
    "We access the list item we want through the square brackets shown `[]`."
   ]
  },
  {
   "cell_type": "code",
   "execution_count": 15,
   "id": "215cd4cc",
   "metadata": {
    "slideshow": {
     "slide_type": "fragment"
    }
   },
   "outputs": [],
   "source": [
    "my_second_list = ['UCL', 'LSE', 'QMUL']"
   ]
  },
  {
   "cell_type": "markdown",
   "id": "dbdcba6c",
   "metadata": {},
   "source": [
    "What will my_second_list[2] give us?"
   ]
  },
  {
   "cell_type": "markdown",
   "id": "966729d6",
   "metadata": {
    "slideshow": {
     "slide_type": "fragment"
    }
   },
   "source": [
    "my_second_list[2]"
   ]
  },
  {
   "cell_type": "markdown",
   "id": "6a8048b3",
   "metadata": {
    "slideshow": {
     "slide_type": "slide"
    }
   },
   "source": [
    "## List indexing\n",
    "We can also index the string *backwards* through using the `-` sign."
   ]
  },
  {
   "cell_type": "markdown",
   "id": "15d1070b",
   "metadata": {
    "slideshow": {
     "slide_type": "fragment"
    }
   },
   "source": [
    "That is, to obtain the last item on the list:"
   ]
  },
  {
   "cell_type": "code",
   "execution_count": 17,
   "id": "90f0dfdb",
   "metadata": {},
   "outputs": [
    {
     "data": {
      "text/plain": [
       "'Neptune'"
      ]
     },
     "execution_count": 17,
     "metadata": {},
     "output_type": "execute_result"
    }
   ],
   "source": [
    "planets = ['Mercury', 'Venus', 'Earth', 'Mars', 'Jupiter', 'Saturn', 'Uranus', 'Neptune']\n",
    "planets[-1]"
   ]
  },
  {
   "cell_type": "markdown",
   "id": "21d93176",
   "metadata": {
    "slideshow": {
     "slide_type": "fragment"
    }
   },
   "source": [
    "We obtain the planet furthest from the sun!"
   ]
  },
  {
   "cell_type": "markdown",
   "id": "fb6e125b",
   "metadata": {
    "slideshow": {
     "slide_type": "slide"
    }
   },
   "source": [
    "## List slicing\n",
    "We can chop up lists however we like.\n",
    "\n",
    "What are the first three planets?"
   ]
  },
  {
   "cell_type": "code",
   "execution_count": 18,
   "id": "c0e2a9c5",
   "metadata": {
    "slideshow": {
     "slide_type": "fragment"
    }
   },
   "outputs": [
    {
     "data": {
      "text/plain": [
       "['Mercury', 'Venus', 'Earth']"
      ]
     },
     "execution_count": 18,
     "metadata": {},
     "output_type": "execute_result"
    }
   ],
   "source": [
    "planets[0:3]"
   ]
  },
  {
   "cell_type": "markdown",
   "id": "d9d7d76e",
   "metadata": {
    "slideshow": {
     "slide_type": "fragment"
    }
   },
   "source": [
    "We use the `:` symbol to obtain our slice.\n",
    "    \n",
    "Notice that the indexing is a bit strange! We start at `0` and continue up to *but not including* `3`."
   ]
  },
  {
   "cell_type": "markdown",
   "id": "d5304ae9",
   "metadata": {
    "slideshow": {
     "slide_type": "slide"
    }
   },
   "source": [
    "## List slicing\n",
    "The starting and ending indices are both optional. If I leave out the start index, it's assumed to be 0. So I could rewrite the expression above as:"
   ]
  },
  {
   "cell_type": "code",
   "execution_count": 20,
   "id": "fe9da0df",
   "metadata": {},
   "outputs": [
    {
     "data": {
      "text/plain": [
       "['Mercury', 'Venus', 'Earth']"
      ]
     },
     "execution_count": 20,
     "metadata": {},
     "output_type": "execute_result"
    }
   ],
   "source": [
    "planets[:3]"
   ]
  },
  {
   "cell_type": "markdown",
   "id": "a99c3bc2",
   "metadata": {
    "slideshow": {
     "slide_type": "fragment"
    }
   },
   "source": [
    "Or from Mars to the end..."
   ]
  },
  {
   "cell_type": "code",
   "execution_count": 22,
   "id": "eedf7db3",
   "metadata": {},
   "outputs": [
    {
     "data": {
      "text/plain": [
       "['Mars', 'Jupiter', 'Saturn', 'Uranus', 'Neptune']"
      ]
     },
     "execution_count": 22,
     "metadata": {},
     "output_type": "execute_result"
    }
   ],
   "source": [
    "planets[3:]"
   ]
  },
  {
   "cell_type": "markdown",
   "id": "7b779299",
   "metadata": {
    "slideshow": {
     "slide_type": "fragment"
    }
   },
   "source": [
    "Or even negative indexes, i.e. from the third **up to** the last in the list?"
   ]
  },
  {
   "cell_type": "code",
   "execution_count": 24,
   "id": "b7040dd7",
   "metadata": {
    "slideshow": {
     "slide_type": "fragment"
    }
   },
   "outputs": [
    {
     "data": {
      "text/plain": [
       "['Mars', 'Jupiter', 'Saturn', 'Uranus']"
      ]
     },
     "execution_count": 24,
     "metadata": {},
     "output_type": "execute_result"
    }
   ],
   "source": [
    "planets[3:-1]"
   ]
  },
  {
   "cell_type": "markdown",
   "id": "078e182f",
   "metadata": {
    "slideshow": {
     "slide_type": "slide"
    }
   },
   "source": [
    "## Changing lists\n",
    "Lists are 'mutable' - this just means they can be changed in place.\n",
    "\n",
    "Let's say that the name of the Mars changes to Marte. Any ideas on how we would do this?"
   ]
  },
  {
   "cell_type": "code",
   "execution_count": 25,
   "id": "ad2c0098",
   "metadata": {},
   "outputs": [],
   "source": [
    "planets = ['Mercury', 'Venus', 'Earth', 'Mars', 'Jupiter', 'Saturn', 'Uranus', 'Neptune']"
   ]
  },
  {
   "cell_type": "code",
   "execution_count": 28,
   "id": "fc172335",
   "metadata": {
    "slideshow": {
     "slide_type": "fragment"
    }
   },
   "outputs": [
    {
     "data": {
      "text/plain": [
       "['Mercury',\n",
       " 'Venus',\n",
       " 'Earth',\n",
       " 'Marte',\n",
       " 'Jupiter',\n",
       " 'Saturn',\n",
       " 'Uranus',\n",
       " 'Neptune']"
      ]
     },
     "execution_count": 28,
     "metadata": {},
     "output_type": "execute_result"
    }
   ],
   "source": [
    "planets[3] = 'Marte'\n",
    "planets"
   ]
  },
  {
   "cell_type": "markdown",
   "id": "3fd8339f",
   "metadata": {
    "slideshow": {
     "slide_type": "fragment"
    }
   },
   "source": [
    "We can even change multiple lists items at the same time, just by assigning a list to that slice."
   ]
  },
  {
   "cell_type": "code",
   "execution_count": 31,
   "id": "09cb3286",
   "metadata": {},
   "outputs": [
    {
     "data": {
      "text/plain": [
       "['Mr', 'V', 'U', 'Marte', 'Jupiter', 'Saturn', 'Uranus', 'Neptune']"
      ]
     },
     "execution_count": 31,
     "metadata": {},
     "output_type": "execute_result"
    }
   ],
   "source": [
    "planets[:3] = ['Mr', 'V', 'U']\n",
    "planets"
   ]
  },
  {
   "cell_type": "markdown",
   "id": "af791009",
   "metadata": {
    "slideshow": {
     "slide_type": "slide"
    }
   },
   "source": [
    "## Some useful list functions\n",
    "How many planets are there?"
   ]
  },
  {
   "cell_type": "code",
   "execution_count": 33,
   "id": "e85da197",
   "metadata": {
    "slideshow": {
     "slide_type": "fragment"
    }
   },
   "outputs": [
    {
     "data": {
      "text/plain": [
       "8"
      ]
     },
     "execution_count": 33,
     "metadata": {},
     "output_type": "execute_result"
    }
   ],
   "source": [
    "planets = ['Mercury', 'Venus', 'Earth', 'Mars', 'Jupiter', 'Saturn', 'Uranus', 'Neptune']\n",
    "len(planets)"
   ]
  },
  {
   "cell_type": "markdown",
   "id": "e6e18e7a",
   "metadata": {
    "slideshow": {
     "slide_type": "fragment"
    }
   },
   "source": [
    "sorted returns a sorted version of a list:"
   ]
  },
  {
   "cell_type": "code",
   "execution_count": 34,
   "id": "e3406f06",
   "metadata": {},
   "outputs": [
    {
     "data": {
      "text/plain": [
       "['Earth', 'Jupiter', 'Mars', 'Mercury', 'Neptune', 'Saturn', 'Uranus', 'Venus']"
      ]
     },
     "execution_count": 34,
     "metadata": {},
     "output_type": "execute_result"
    }
   ],
   "source": [
    "sorted(planets)"
   ]
  },
  {
   "cell_type": "markdown",
   "id": "1eab44eb",
   "metadata": {
    "slideshow": {
     "slide_type": "fragment"
    }
   },
   "source": [
    "sum adds the items of the list together, max or min the extreme values."
   ]
  },
  {
   "cell_type": "code",
   "execution_count": 43,
   "id": "612de3a5",
   "metadata": {},
   "outputs": [
    {
     "name": "stdout",
     "output_type": "stream",
     "text": [
      "Sum: 17 , Max: 7 , Min: 2\n"
     ]
    }
   ],
   "source": [
    "primes = [2, 3, 5, 7]\n",
    "print('Sum:', sum(primes), ', Max:', max(primes), ', Min:', min(primes))"
   ]
  },
  {
   "cell_type": "markdown",
   "id": "ffb3d7e4",
   "metadata": {
    "slideshow": {
     "slide_type": "slide"
    }
   },
   "source": [
    "## Appending and Popping\n",
    "\n",
    "We can create an *empty* list simply by creating a new `[]` variable.\n",
    "We can easily add or remove things from lists with the following functions."
   ]
  },
  {
   "cell_type": "code",
   "execution_count": 54,
   "id": "9c1c485e",
   "metadata": {
    "slideshow": {
     "slide_type": "fragment"
    }
   },
   "outputs": [
    {
     "name": "stdout",
     "output_type": "stream",
     "text": [
      "['LSE']\n",
      "['LSE', 'UCL']\n"
     ]
    }
   ],
   "source": [
    "myList = []\n",
    "myList.append('LSE')\n",
    "print(myList)\n",
    "myList.append('UCL')\n",
    "print(myList)"
   ]
  },
  {
   "cell_type": "code",
   "execution_count": 53,
   "id": "5c244946",
   "metadata": {
    "slideshow": {
     "slide_type": "fragment"
    }
   },
   "outputs": [
    {
     "name": "stdout",
     "output_type": "stream",
     "text": [
      "['LSE']\n",
      "UCL\n"
     ]
    }
   ],
   "source": [
    "# Popping removes the last item on the list - and returns that item, to use if we wish.\n",
    "popped = myList.pop()\n",
    "print(myList)\n",
    "print(popped)"
   ]
  },
  {
   "cell_type": "markdown",
   "id": "cfb93f18",
   "metadata": {
    "slideshow": {
     "slide_type": "slide"
    }
   },
   "source": [
    "## Why lists?\n",
    "- Why've we talked about lists for so long?"
   ]
  },
  {
   "cell_type": "markdown",
   "id": "fdcb0dfa",
   "metadata": {
    "slideshow": {
     "slide_type": "fragment"
    }
   },
   "source": [
    "- Because list-like concepts are used heavily when we turn to the data.\n",
    "- Remember, these are like our Stata 'columns' (or vectors) of data."
   ]
  }
 ],
 "metadata": {
  "celltoolbar": "Slideshow",
  "kernelspec": {
   "display_name": "Python 3 (ipykernel)",
   "language": "python",
   "name": "python3"
  },
  "language_info": {
   "codemirror_mode": {
    "name": "ipython",
    "version": 3
   },
   "file_extension": ".py",
   "mimetype": "text/x-python",
   "name": "python",
   "nbconvert_exporter": "python",
   "pygments_lexer": "ipython3",
   "version": "3.10.5"
  }
 },
 "nbformat": 4,
 "nbformat_minor": 5
}
