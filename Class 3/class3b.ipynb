{
 "cells": [
  {
   "cell_type": "markdown",
   "id": "70e14564",
   "metadata": {
    "slideshow": {
     "slide_type": "slide"
    }
   },
   "source": [
    "# Introduction to Data Science for Public Policy\n",
    "## Class 3b: Strings and dictionaries (no PS until class 3c)\n",
    "## Thomas Monk"
   ]
  },
  {
   "cell_type": "markdown",
   "id": "0e732349",
   "metadata": {
    "slideshow": {
     "slide_type": "slide"
    }
   },
   "source": [
    "This class introduces you to some useful functions for when we have messy data.\n",
    "\n",
    "Strings are lists! Everything we can do with a list, we can do with a string."
   ]
  },
  {
   "cell_type": "code",
   "execution_count": 2,
   "id": "f74d20be",
   "metadata": {
    "slideshow": {
     "slide_type": "fragment"
    }
   },
   "outputs": [],
   "source": [
    "string = \"Hello, World!\""
   ]
  },
  {
   "cell_type": "code",
   "execution_count": 3,
   "id": "f5653dce",
   "metadata": {
    "slideshow": {
     "slide_type": "fragment"
    }
   },
   "outputs": [
    {
     "data": {
      "text/plain": [
       "'H'"
      ]
     },
     "execution_count": 3,
     "metadata": {},
     "output_type": "execute_result"
    }
   ],
   "source": [
    "string[0]"
   ]
  },
  {
   "cell_type": "code",
   "execution_count": 4,
   "id": "6e3ec46a",
   "metadata": {
    "slideshow": {
     "slide_type": "fragment"
    }
   },
   "outputs": [
    {
     "data": {
      "text/plain": [
       "'!'"
      ]
     },
     "execution_count": 4,
     "metadata": {},
     "output_type": "execute_result"
    }
   ],
   "source": [
    "string[-1]"
   ]
  },
  {
   "cell_type": "markdown",
   "id": "d00f944b",
   "metadata": {},
   "source": [
    "A string is just a list of *characters*. The only difference is they are *immutable*, we can't modify them in place."
   ]
  },
  {
   "cell_type": "code",
   "execution_count": 5,
   "id": "130ffe08",
   "metadata": {
    "slideshow": {
     "slide_type": "fragment"
    }
   },
   "outputs": [
    {
     "ename": "TypeError",
     "evalue": "'str' object does not support item assignment",
     "output_type": "error",
     "traceback": [
      "\u001b[0;31m---------------------------------------------------------------------------\u001b[0m",
      "\u001b[0;31mTypeError\u001b[0m                                 Traceback (most recent call last)",
      "Input \u001b[0;32mIn [5]\u001b[0m, in \u001b[0;36m<cell line: 1>\u001b[0;34m()\u001b[0m\n\u001b[0;32m----> 1\u001b[0m string[\u001b[38;5;241m0\u001b[39m] \u001b[38;5;241m=\u001b[39m \u001b[38;5;124m'\u001b[39m\u001b[38;5;124mX\u001b[39m\u001b[38;5;124m'\u001b[39m\n",
      "\u001b[0;31mTypeError\u001b[0m: 'str' object does not support item assignment"
     ]
    }
   ],
   "source": [
    "string[0] = 'X'"
   ]
  },
  {
   "cell_type": "markdown",
   "id": "32d290aa",
   "metadata": {
    "slideshow": {
     "slide_type": "slide"
    }
   },
   "source": [
    "## String methods"
   ]
  },
  {
   "cell_type": "markdown",
   "id": "c7dc7975",
   "metadata": {
    "slideshow": {
     "slide_type": "fragment"
    }
   },
   "source": [
    "Upper/lower case"
   ]
  },
  {
   "cell_type": "code",
   "execution_count": 14,
   "id": "8b5fb2f5",
   "metadata": {},
   "outputs": [
    {
     "name": "stdout",
     "output_type": "stream",
     "text": [
      "HELLO, WORLD!\n",
      "hello, world!\n"
     ]
    }
   ],
   "source": [
    "phrase = \"Hello, World!\"\n",
    "print(phrase.upper())\n",
    "print(phrase.lower())"
   ]
  },
  {
   "cell_type": "markdown",
   "id": "a411bbdc",
   "metadata": {
    "slideshow": {
     "slide_type": "fragment"
    }
   },
   "source": [
    "Searching for the first index of a substring"
   ]
  },
  {
   "cell_type": "code",
   "execution_count": 9,
   "id": "ce0faabb",
   "metadata": {},
   "outputs": [
    {
     "data": {
      "text/plain": [
       "5"
      ]
     },
     "execution_count": 9,
     "metadata": {},
     "output_type": "execute_result"
    }
   ],
   "source": [
    "phrase.index(',')"
   ]
  },
  {
   "cell_type": "markdown",
   "id": "5aaa5e17",
   "metadata": {
    "slideshow": {
     "slide_type": "fragment"
    }
   },
   "source": [
    "Starts/endswith"
   ]
  },
  {
   "cell_type": "code",
   "execution_count": 10,
   "id": "d44cd501",
   "metadata": {
    "slideshow": {
     "slide_type": "fragment"
    }
   },
   "outputs": [
    {
     "data": {
      "text/plain": [
       "True"
      ]
     },
     "execution_count": 10,
     "metadata": {},
     "output_type": "execute_result"
    }
   ],
   "source": [
    "phrase.startswith(\"Hello\")"
   ]
  },
  {
   "cell_type": "code",
   "execution_count": 11,
   "id": "6b29b153",
   "metadata": {
    "slideshow": {
     "slide_type": "fragment"
    }
   },
   "outputs": [
    {
     "data": {
      "text/plain": [
       "False"
      ]
     },
     "execution_count": 11,
     "metadata": {},
     "output_type": "execute_result"
    }
   ],
   "source": [
    "phrase.endswith(\"Hello\")"
   ]
  },
  {
   "cell_type": "markdown",
   "id": "5f3b134b",
   "metadata": {
    "slideshow": {
     "slide_type": "slide"
    }
   },
   "source": [
    "## Concatenation\n",
    "\n",
    "Often we want to join two strings together. We do this using *concatenation* - which is just the `+` sign."
   ]
  },
  {
   "cell_type": "code",
   "execution_count": 55,
   "id": "9fbb9c7d",
   "metadata": {
    "slideshow": {
     "slide_type": "fragment"
    }
   },
   "outputs": [
    {
     "data": {
      "text/plain": [
       "'Hello World'"
      ]
     },
     "execution_count": 55,
     "metadata": {},
     "output_type": "execute_result"
    }
   ],
   "source": [
    "full_string = \"Hello\" + \" \" + \"World\"\n",
    "full_string"
   ]
  },
  {
   "cell_type": "markdown",
   "id": "469f59c4",
   "metadata": {},
   "source": [
    "Notice that this is why adding a string and an integer failed yesterday!"
   ]
  },
  {
   "cell_type": "markdown",
   "id": "0a8a1996",
   "metadata": {
    "slideshow": {
     "slide_type": "slide"
    }
   },
   "source": [
    "## Splitting a string\n",
    "We can use the `split` function to seperate our string into a list, with whatever deliminator we want.\n",
    "You might have done something similar in Excel."
   ]
  },
  {
   "cell_type": "markdown",
   "id": "ffa9244b",
   "metadata": {},
   "source": [
    "words = phrase.split()\n",
    "words"
   ]
  },
  {
   "cell_type": "markdown",
   "id": "133ed199",
   "metadata": {
    "slideshow": {
     "slide_type": "fragment"
    }
   },
   "source": [
    "Perhaps we want to split with something other than whitespace - we just give an argument to the split() function."
   ]
  },
  {
   "cell_type": "code",
   "execution_count": 23,
   "id": "ac9db1ad",
   "metadata": {},
   "outputs": [
    {
     "name": "stdout",
     "output_type": "stream",
     "text": [
      "['1956', '01', '31'] , 1956 01 31\n"
     ]
    }
   ],
   "source": [
    "datestr = '1956-01-31'\n",
    "YMD = datestr.split('-')\n",
    "year, month, day = datestr.split('-')\n",
    "print(YMD, \",\", year, month, day)"
   ]
  },
  {
   "cell_type": "markdown",
   "id": "1cf5b99c",
   "metadata": {
    "slideshow": {
     "slide_type": "slide"
    }
   },
   "source": [
    "## New data type: Dictionaries\n",
    "\n",
    "Dictionaries are a built-in Python data structure for mapping keys to values, and are another way Pandas stores data.\n",
    "\n",
    "We define them in the following way - notice the **curly** brackets:"
   ]
  },
  {
   "cell_type": "code",
   "execution_count": 27,
   "id": "721e1bb5",
   "metadata": {
    "slideshow": {
     "slide_type": "fragment"
    }
   },
   "outputs": [
    {
     "data": {
      "text/plain": [
       "{'one': 1, 'two': 2, 'three': 3}"
      ]
     },
     "execution_count": 27,
     "metadata": {},
     "output_type": "execute_result"
    }
   ],
   "source": [
    "numbers = {'one':1, 'two':2, 'three':3}\n",
    "numbers"
   ]
  },
  {
   "cell_type": "markdown",
   "id": "2dd279f9",
   "metadata": {
    "slideshow": {
     "slide_type": "fragment"
    }
   },
   "source": [
    "Each item in our dictionary has a key (`one`) and a value (`1`). The key points to the value."
   ]
  },
  {
   "cell_type": "markdown",
   "id": "bbe386b5",
   "metadata": {
    "slideshow": {
     "slide_type": "fragment"
    }
   },
   "source": [
    "Most usefully, we can access an item in the dictionary, not just by its numeric position, but by its key."
   ]
  },
  {
   "cell_type": "code",
   "execution_count": 31,
   "id": "a93ff6fc",
   "metadata": {},
   "outputs": [
    {
     "data": {
      "text/plain": [
       "1"
      ]
     },
     "execution_count": 31,
     "metadata": {},
     "output_type": "execute_result"
    }
   ],
   "source": [
    "numbers['one']"
   ]
  },
  {
   "cell_type": "markdown",
   "id": "c250d397",
   "metadata": {
    "slideshow": {
     "slide_type": "slide"
    }
   },
   "source": [
    "## Adding and removing items\n",
    "\n",
    "Dictionaries are mutable! This means we can do things like the following:"
   ]
  },
  {
   "cell_type": "code",
   "execution_count": 38,
   "id": "519dce1c",
   "metadata": {
    "slideshow": {
     "slide_type": "fragment"
    }
   },
   "outputs": [
    {
     "data": {
      "text/plain": [
       "{'one': 1, 'two': 2, 'three': 3, 'four': 4}"
      ]
     },
     "execution_count": 38,
     "metadata": {},
     "output_type": "execute_result"
    }
   ],
   "source": [
    "numbers = {'one':1, 'two':2, 'three':3}\n",
    "numbers['four'] = 4\n",
    "numbers"
   ]
  },
  {
   "cell_type": "code",
   "execution_count": 37,
   "id": "05cc95a1",
   "metadata": {
    "slideshow": {
     "slide_type": "fragment"
    }
   },
   "outputs": [
    {
     "data": {
      "text/plain": [
       "{'one': 'Pluto', 'two': 2, 'three': 3, 'four': 4}"
      ]
     },
     "execution_count": 37,
     "metadata": {},
     "output_type": "execute_result"
    }
   ],
   "source": [
    "numbers['one'] = 'Pluto'\n",
    "numbers"
   ]
  },
  {
   "cell_type": "markdown",
   "id": "30359728",
   "metadata": {
    "slideshow": {
     "slide_type": "slide"
    }
   },
   "source": [
    "## Dictionary logic\n",
    "\n",
    "The `in` operator will tell us if a certain item is a key in a dictionary (or a value in a list)."
   ]
  },
  {
   "cell_type": "code",
   "execution_count": 40,
   "id": "1ce2ccec",
   "metadata": {
    "slideshow": {
     "slide_type": "fragment"
    }
   },
   "outputs": [
    {
     "data": {
      "text/plain": [
       "True"
      ]
     },
     "execution_count": 40,
     "metadata": {},
     "output_type": "execute_result"
    }
   ],
   "source": [
    "planets = ['Mercury', 'Venus', 'Earth', 'Mars', 'Jupiter', 'Saturn', 'Uranus', 'Neptune']\n",
    "'Saturn' in planets"
   ]
  },
  {
   "cell_type": "code",
   "execution_count": 45,
   "id": "bf34173b",
   "metadata": {
    "slideshow": {
     "slide_type": "fragment"
    }
   },
   "outputs": [],
   "source": [
    "planets_to_initials = {'Mercury': 'M',\n",
    " 'Venus': 'V',\n",
    " 'Earth': 'E',\n",
    " 'Mars': 'M',\n",
    " 'Jupiter': 'J',\n",
    " 'Saturn': 'S',\n",
    " 'Uranus': 'U',\n",
    " 'Neptune': 'N'}"
   ]
  },
  {
   "cell_type": "code",
   "execution_count": 48,
   "id": "ebcd938f",
   "metadata": {
    "slideshow": {
     "slide_type": "fragment"
    }
   },
   "outputs": [
    {
     "name": "stdout",
     "output_type": "stream",
     "text": [
      "False\n"
     ]
    }
   ],
   "source": [
    "print('S' in planets_to_initials)"
   ]
  }
 ],
 "metadata": {
  "celltoolbar": "Slideshow",
  "kernelspec": {
   "display_name": "Python 3 (ipykernel)",
   "language": "python",
   "name": "python3"
  },
  "language_info": {
   "codemirror_mode": {
    "name": "ipython",
    "version": 3
   },
   "file_extension": ".py",
   "mimetype": "text/x-python",
   "name": "python",
   "nbconvert_exporter": "python",
   "pygments_lexer": "ipython3",
   "version": "3.10.5"
  }
 },
 "nbformat": 4,
 "nbformat_minor": 5
}
