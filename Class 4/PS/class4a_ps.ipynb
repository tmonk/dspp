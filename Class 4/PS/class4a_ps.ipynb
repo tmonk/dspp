{
 "cells": [
  {
   "cell_type": "markdown",
   "id": "d6295786",
   "metadata": {},
   "source": [
    "# Question 1 - nested (2D, 3D etc...) lists and dictionaries\n",
    "Given the following dictionary:"
   ]
  },
  {
   "cell_type": "code",
   "execution_count": 5,
   "id": "b496eb55",
   "metadata": {},
   "outputs": [],
   "source": [
    "inventory = {\n",
    "    'gold' : 500,\n",
    "    'pouch' : ['flint', 'twine', 'gemstone', 'big key', 'small key', 'keyboard'],\n",
    "    'backpack' : [['spade', 'saw'], 'xylophone','dagger', 'bedroll','bread loaf', 'snake']\n",
    "}"
   ]
  },
  {
   "cell_type": "markdown",
   "id": "2a9fcf50",
   "metadata": {},
   "source": [
    "- **1**. Our character has realised she has a pocket! Create a 'pocket' within our inventory to be a list consisting of following items seashell, strange berry and leaf.\n",
    "- **2**. Sort the items in the list stored in their pouch.\n",
    "- **3**. Then remove the dagger from player's backpack.\n",
    "- **4**. Add 50 to the player's gold.\n",
    "- **5. Finally** create a function called check_win(). This function should let us know if the player has won. The win conditions are the following:\n",
    "    - The player does NOT have a snake in her backpack.\n",
    "    - The player has a big key OR two small keys in her pouch. *Hint - a .count() method exists for a list*\n",
    "    - The player has at least 500 gold.\n",
    "    - Inside the player's backpack there is a toolbox - it's the first item in the list. Check to see if the first item in the player's toolbox is a spade. **Hint:** in a 2D list, to access the second item of the first list, we would use `list[0][1]`."
   ]
  },
  {
   "cell_type": "markdown",
   "id": "5ba03be4",
   "metadata": {},
   "source": [
    "# Question 2\n",
    "Complete the function below according to its documentation."
   ]
  },
  {
   "cell_type": "code",
   "execution_count": 4,
   "id": "30d91033",
   "metadata": {},
   "outputs": [],
   "source": [
    "def menu_is_boring(meals):\n",
    "    \"\"\"Given a list of meals served over some period of time, return True if the\n",
    "    same meal has ever been served two days in a row, and False otherwise.\n",
    "    \"\"\""
   ]
  },
  {
   "cell_type": "markdown",
   "id": "8240b6b7",
   "metadata": {},
   "source": [
    "# Question 3 (nested loops)\n",
    "\n",
    "We work at a (robot?) casino. We're given a 2 dimensional list like the following (it's just a list of lists!)."
   ]
  },
  {
   "cell_type": "code",
   "execution_count": 7,
   "id": "496176ed",
   "metadata": {},
   "outputs": [],
   "source": [
    "hands = [['J', 4, 'Q'],\n",
    "            ['J', 9, 'A'],\n",
    "            [2, 6, 'A'],\n",
    "            ['A', 3, 'A'],\n",
    "            [6, 9, 10]\n",
    "]"
   ]
  },
  {
   "cell_type": "markdown",
   "id": "244d8c8c",
   "metadata": {},
   "source": [
    "Write a function that does the following:\n",
    "- As an input takes in our 2d list.\n",
    "- Converts the string cards (i.e. J, Q, K) to their numerical values. Aces are high! (i.e. J is 11, Q is 12, K is 13, A is 14). **Hint: use a dictionary**.\n",
    "- Counts each player's hand.\n",
    "- Returns the index of the player who's won!\n",
    "\n",
    "Who's the winner, and what's their score?"
   ]
  },
  {
   "cell_type": "markdown",
   "id": "ef58087b",
   "metadata": {},
   "source": [
    "# Question 4 - Tough! Will take us some time...\n",
    "A researcher has gathered thousands of news articles. But she wants to focus her attention on articles including a specific word. Complete the function below to help her filter her list of articles.\n",
    "\n",
    "Your function should meet the following criteria:\n",
    "\n",
    "- Do not include documents where the keyword string shows up only as a part of a larger word. For example, if she were looking for the keyword “closed”, you would not include the string “enclosed.” \n",
    "- She does not want you to distinguish upper case from lower case letters. So the phrase “Closed the case.” would be included when the keyword is “closed”\n",
    "- Do not let periods or commas affect what is matched. “It is closed.” would be included when the keyword is “closed”. But you can assume there are no other types of punctuation.\n",
    "\n",
    "Return a **list** here.\n",
    "\n",
    "Hint: Some methods that may be useful here: `str.split()`, `str.strip()`, `str.lower()`. Python will tell you all about these with the `help` function. (i.e. `help(str.strip)`)"
   ]
  },
  {
   "cell_type": "code",
   "execution_count": null,
   "id": "b2680200",
   "metadata": {},
   "outputs": [],
   "source": [
    "def word_search(doc_list, keyword):\n",
    "    \"\"\"\n",
    "    Takes a list of documents (each document is a string) and a keyword. \n",
    "    Returns list of the index values into the original list for all documents \n",
    "    containing the keyword.\n",
    "\n",
    "    Example:\n",
    "    doc_list = [\"The Park Tower Casino.\", \"They bought a casio\", \"Casinoville\"]\n",
    "    >>> word_search(doc_list, 'casino')\n",
    "    >>> [0]\n",
    "    \"\"\""
   ]
  },
  {
   "cell_type": "code",
   "execution_count": 7,
   "id": "a4b4d640",
   "metadata": {},
   "outputs": [
    {
     "name": "stdout",
     "output_type": "stream",
     "text": [
      "Help on method_descriptor:\n",
      "\n",
      "strip(self, chars=None, /)\n",
      "    Return a copy of the string with leading and trailing whitespace removed.\n",
      "    \n",
      "    If chars is given and not None, remove characters in chars instead.\n",
      "\n"
     ]
    }
   ],
   "source": [
    "help(str.strip)"
   ]
  }
 ],
 "metadata": {
  "kernelspec": {
   "display_name": "Python 3 (ipykernel)",
   "language": "python",
   "name": "python3"
  },
  "language_info": {
   "codemirror_mode": {
    "name": "ipython",
    "version": 3
   },
   "file_extension": ".py",
   "mimetype": "text/x-python",
   "name": "python",
   "nbconvert_exporter": "python",
   "pygments_lexer": "ipython3",
   "version": "3.10.5"
  }
 },
 "nbformat": 4,
 "nbformat_minor": 5
}
