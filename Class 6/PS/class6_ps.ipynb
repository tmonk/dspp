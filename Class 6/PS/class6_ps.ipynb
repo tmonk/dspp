{
 "cells": [
  {
   "cell_type": "markdown",
   "id": "77e7fd85",
   "metadata": {},
   "source": [
    "## Question 1.\n",
    "\n",
    "Create a dataframe `fruit_sales` that matches the diagram below:\n",
    "\n",
    "![](https://i.imgur.com/CHPn7ZF.png)"
   ]
  },
  {
   "cell_type": "markdown",
   "id": "92d68b9c-9f3f-4e22-990c-d7a15ee02091",
   "metadata": {},
   "source": [
    "## Question 2\n",
    "### Wine Review Dataset - Kaggle\n",
    "Some quickfire questions."
   ]
  },
  {
   "cell_type": "markdown",
   "id": "19025b86-1c28-4dc0-9c37-43bf8b9b767d",
   "metadata": {},
   "source": [
    "First load the wine review dataset."
   ]
  },
  {
   "cell_type": "code",
   "execution_count": 3,
   "id": "a3942cdf-259b-405d-8c96-c5697ea3b24f",
   "metadata": {},
   "outputs": [],
   "source": [
    "import pandas as pd\n",
    "reviews = pd.read_csv(\"winemag-data-130k-v2.csv\", index_col=0)"
   ]
  },
  {
   "cell_type": "markdown",
   "id": "b9f2580e-64ce-43ad-8bc2-06632d3e7209",
   "metadata": {},
   "source": [
    "Take a look at the dataset with the following code:"
   ]
  },
  {
   "cell_type": "code",
   "execution_count": 4,
   "id": "26f499e2-f61e-49ab-a577-ae226ebfeb85",
   "metadata": {},
   "outputs": [
    {
     "data": {
      "text/html": [
       "<div>\n",
       "<style scoped>\n",
       "    .dataframe tbody tr th:only-of-type {\n",
       "        vertical-align: middle;\n",
       "    }\n",
       "\n",
       "    .dataframe tbody tr th {\n",
       "        vertical-align: top;\n",
       "    }\n",
       "\n",
       "    .dataframe thead th {\n",
       "        text-align: right;\n",
       "    }\n",
       "</style>\n",
       "<table border=\"1\" class=\"dataframe\">\n",
       "  <thead>\n",
       "    <tr style=\"text-align: right;\">\n",
       "      <th></th>\n",
       "      <th>country</th>\n",
       "      <th>description</th>\n",
       "      <th>designation</th>\n",
       "      <th>points</th>\n",
       "      <th>price</th>\n",
       "      <th>province</th>\n",
       "      <th>region_1</th>\n",
       "      <th>region_2</th>\n",
       "      <th>taster_name</th>\n",
       "      <th>taster_twitter_handle</th>\n",
       "      <th>title</th>\n",
       "      <th>variety</th>\n",
       "      <th>winery</th>\n",
       "    </tr>\n",
       "  </thead>\n",
       "  <tbody>\n",
       "    <tr>\n",
       "      <th>0</th>\n",
       "      <td>Italy</td>\n",
       "      <td>Aromas include tropical fruit, broom, brimston...</td>\n",
       "      <td>Vulkà Bianco</td>\n",
       "      <td>87</td>\n",
       "      <td>NaN</td>\n",
       "      <td>Sicily &amp; Sardinia</td>\n",
       "      <td>Etna</td>\n",
       "      <td>NaN</td>\n",
       "      <td>Kerin O’Keefe</td>\n",
       "      <td>@kerinokeefe</td>\n",
       "      <td>Nicosia 2013 Vulkà Bianco  (Etna)</td>\n",
       "      <td>White Blend</td>\n",
       "      <td>Nicosia</td>\n",
       "    </tr>\n",
       "    <tr>\n",
       "      <th>1</th>\n",
       "      <td>Portugal</td>\n",
       "      <td>This is ripe and fruity, a wine that is smooth...</td>\n",
       "      <td>Avidagos</td>\n",
       "      <td>87</td>\n",
       "      <td>15.0</td>\n",
       "      <td>Douro</td>\n",
       "      <td>NaN</td>\n",
       "      <td>NaN</td>\n",
       "      <td>Roger Voss</td>\n",
       "      <td>@vossroger</td>\n",
       "      <td>Quinta dos Avidagos 2011 Avidagos Red (Douro)</td>\n",
       "      <td>Portuguese Red</td>\n",
       "      <td>Quinta dos Avidagos</td>\n",
       "    </tr>\n",
       "    <tr>\n",
       "      <th>2</th>\n",
       "      <td>US</td>\n",
       "      <td>Tart and snappy, the flavors of lime flesh and...</td>\n",
       "      <td>NaN</td>\n",
       "      <td>87</td>\n",
       "      <td>14.0</td>\n",
       "      <td>Oregon</td>\n",
       "      <td>Willamette Valley</td>\n",
       "      <td>Willamette Valley</td>\n",
       "      <td>Paul Gregutt</td>\n",
       "      <td>@paulgwine</td>\n",
       "      <td>Rainstorm 2013 Pinot Gris (Willamette Valley)</td>\n",
       "      <td>Pinot Gris</td>\n",
       "      <td>Rainstorm</td>\n",
       "    </tr>\n",
       "    <tr>\n",
       "      <th>3</th>\n",
       "      <td>US</td>\n",
       "      <td>Pineapple rind, lemon pith and orange blossom ...</td>\n",
       "      <td>Reserve Late Harvest</td>\n",
       "      <td>87</td>\n",
       "      <td>13.0</td>\n",
       "      <td>Michigan</td>\n",
       "      <td>Lake Michigan Shore</td>\n",
       "      <td>NaN</td>\n",
       "      <td>Alexander Peartree</td>\n",
       "      <td>NaN</td>\n",
       "      <td>St. Julian 2013 Reserve Late Harvest Riesling ...</td>\n",
       "      <td>Riesling</td>\n",
       "      <td>St. Julian</td>\n",
       "    </tr>\n",
       "    <tr>\n",
       "      <th>4</th>\n",
       "      <td>US</td>\n",
       "      <td>Much like the regular bottling from 2012, this...</td>\n",
       "      <td>Vintner's Reserve Wild Child Block</td>\n",
       "      <td>87</td>\n",
       "      <td>65.0</td>\n",
       "      <td>Oregon</td>\n",
       "      <td>Willamette Valley</td>\n",
       "      <td>Willamette Valley</td>\n",
       "      <td>Paul Gregutt</td>\n",
       "      <td>@paulgwine</td>\n",
       "      <td>Sweet Cheeks 2012 Vintner's Reserve Wild Child...</td>\n",
       "      <td>Pinot Noir</td>\n",
       "      <td>Sweet Cheeks</td>\n",
       "    </tr>\n",
       "  </tbody>\n",
       "</table>\n",
       "</div>"
      ],
      "text/plain": [
       "    country                                        description  \\\n",
       "0     Italy  Aromas include tropical fruit, broom, brimston...   \n",
       "1  Portugal  This is ripe and fruity, a wine that is smooth...   \n",
       "2        US  Tart and snappy, the flavors of lime flesh and...   \n",
       "3        US  Pineapple rind, lemon pith and orange blossom ...   \n",
       "4        US  Much like the regular bottling from 2012, this...   \n",
       "\n",
       "                          designation  points  price           province  \\\n",
       "0                        Vulkà Bianco      87    NaN  Sicily & Sardinia   \n",
       "1                            Avidagos      87   15.0              Douro   \n",
       "2                                 NaN      87   14.0             Oregon   \n",
       "3                Reserve Late Harvest      87   13.0           Michigan   \n",
       "4  Vintner's Reserve Wild Child Block      87   65.0             Oregon   \n",
       "\n",
       "              region_1           region_2         taster_name  \\\n",
       "0                 Etna                NaN       Kerin O’Keefe   \n",
       "1                  NaN                NaN          Roger Voss   \n",
       "2    Willamette Valley  Willamette Valley        Paul Gregutt   \n",
       "3  Lake Michigan Shore                NaN  Alexander Peartree   \n",
       "4    Willamette Valley  Willamette Valley        Paul Gregutt   \n",
       "\n",
       "  taster_twitter_handle                                              title  \\\n",
       "0          @kerinokeefe                  Nicosia 2013 Vulkà Bianco  (Etna)   \n",
       "1            @vossroger      Quinta dos Avidagos 2011 Avidagos Red (Douro)   \n",
       "2           @paulgwine       Rainstorm 2013 Pinot Gris (Willamette Valley)   \n",
       "3                   NaN  St. Julian 2013 Reserve Late Harvest Riesling ...   \n",
       "4           @paulgwine   Sweet Cheeks 2012 Vintner's Reserve Wild Child...   \n",
       "\n",
       "          variety               winery  \n",
       "0     White Blend              Nicosia  \n",
       "1  Portuguese Red  Quinta dos Avidagos  \n",
       "2      Pinot Gris            Rainstorm  \n",
       "3        Riesling           St. Julian  \n",
       "4      Pinot Noir         Sweet Cheeks  "
      ]
     },
     "execution_count": 4,
     "metadata": {},
     "output_type": "execute_result"
    }
   ],
   "source": [
    "reviews.head()"
   ]
  },
  {
   "cell_type": "markdown",
   "id": "d2560b1f-7c10-4328-9388-2d5e23a2adfe",
   "metadata": {},
   "source": [
    "## Question 2a.\n",
    "\n",
    "Select the `description` column from `reviews` and assign the result to the variable `desc`.\n",
    "\n",
    "Follow-up question: what type of object is `desc`? If you're not sure, you can check by calling Python's `type` function: `type(desc)`."
   ]
  },
  {
   "cell_type": "markdown",
   "id": "e479ca8f-0028-4769-b2c3-b88f23a6cc04",
   "metadata": {},
   "source": [
    "## Question 2b.\n",
    "\n",
    "Select the first value from the description column of `reviews`, assigning it to variable `first_description`."
   ]
  },
  {
   "cell_type": "markdown",
   "id": "cde9b6d2-0f69-4551-8965-240c0df95cff",
   "metadata": {},
   "source": [
    "## Question 2c.\n",
    "\n",
    "Select the first row of data (the first record) from reviews, assigning it to the variable first_row."
   ]
  },
  {
   "cell_type": "markdown",
   "id": "885e572b-621d-4f14-9d4c-971092b3589d",
   "metadata": {},
   "source": [
    "## Question 2d.\n",
    "\n",
    "Select the first 10 values from the `description` column in `reviews`, assigning the result to variable `first_descriptions`.\n",
    "\n",
    "Hint: format your output as a pandas Series."
   ]
  },
  {
   "cell_type": "markdown",
   "id": "9b910550-f605-4514-a200-7c7c25d89905",
   "metadata": {},
   "source": [
    "## Question 2e.\n",
    "\n",
    "Select the records with index labels `1`, `2`, `3`, `5`, and `8`, assigning the result to the variable `sample_reviews`.\n",
    "\n",
    "In other words, generate the following DataFrame:\n",
    "\n",
    "![](https://i.imgur.com/sHZvI1O.png)"
   ]
  },
  {
   "cell_type": "markdown",
   "id": "f71db46a-239e-4998-9dd4-787499c21e33",
   "metadata": {},
   "source": [
    "## Question 2f.\n",
    "\n",
    "Create a variable `df` containing the `country`, `province`, `region_1`, and `region_2` columns of the records with the index labels `0`, `1`, `10`, and `100`. In other words, generate the following DataFrame:\n",
    "\n",
    "![](https://i.imgur.com/FUCGiKP.png)"
   ]
  },
  {
   "cell_type": "markdown",
   "id": "d315ce71-0dbb-4ec2-b47c-fe6b605fa8ba",
   "metadata": {},
   "source": [
    "## Question 2e.\n",
    "\n",
    "Create a variable `df` containing the `country` and `variety` columns of the first 100 records. \n",
    "\n",
    "Hint: you may use `loc` or `iloc`. When working on the answer this question and the several of the ones that follow, keep the following \"gotcha\":\n",
    "\n",
    "> `iloc` uses the Python stdlib indexing scheme, where the first element of the range is included and the last one excluded. \n",
    "`loc`, meanwhile, indexes inclusively. \n",
    "\n",
    "> This is particularly confusing when the DataFrame index is a simple numerical list, e.g. `0,...,1000`. In this case `df.iloc[0:1000]` will return 1000 entries, while `df.loc[0:1000]` return 1001 of them! To get 1000 elements using `loc`, you will need to go one lower and ask for `df.iloc[0:999]`. "
   ]
  },
  {
   "cell_type": "markdown",
   "id": "befa19ea-2a1a-4f6a-9bdf-442e811780fb",
   "metadata": {},
   "source": [
    "## Question 2f\n",
    "\n",
    "Create a DataFrame `italian_wines` containing reviews of wines made in `Italy`. Hint: `reviews.country` equals what?"
   ]
  },
  {
   "cell_type": "markdown",
   "id": "9a7d201e-13e2-4119-97f0-8539df5c4f7f",
   "metadata": {},
   "source": [
    "## Question 2g\n",
    "\n",
    "Create a DataFrame `top_oceania_wines` containing all reviews with at least 95 points (out of 100) for wines from Australia or New Zealand."
   ]
  },
  {
   "cell_type": "markdown",
   "id": "30756400-093b-46f0-ba00-82baec71d353",
   "metadata": {},
   "source": [
    "## Question 3 - optional\n",
    "Rewrite part B of the Class 5 assignment all in Pandas - it should be far easier now! (I haven't provided solutions here, but we can discuss)."
   ]
  },
  {
   "cell_type": "markdown",
   "id": "0fcb01eb-8529-48e5-9364-61fc6c5353a8",
   "metadata": {},
   "source": [
    "## Question 4 - Chicago crimes dataset, with thanks to Eric Potash\n",
    "\n",
    "First you'll need to download the dataset. Visit the [data portal page](https://data.cityofchicago.org/Public-Safety/Crimes-2001-to-present/ijzp-q8t2/data). The full dataset is very large so we will just work with the year 2017. To subset it click on Filter and set \"[Year is 2017](filter.png)\". Download the data as a CSV by clicking \"Export\" > \"CSV\" and save it to your assignment directory. It should be about 61mb and 266k rows.\n",
    "\n",
    "(I've also uploaded it here, but it's good to practice your data wrangling skills.)\n",
    "\n",
    "### Exercises\n",
    "\n",
    "1. How many crimes were recorded in 2017? What was the crime rate (defined as the number of crimes per 1000 capita-- find an estimate of Chicago's population online)?\n",
    "\n",
    "2. Create a series of the frequency of each type of crime. What are the three most common types of crime? What are the three least common?\n",
    "\n",
    "3. Create a series of the proportion of each type of crime that results in arrest. Which crime type is most likely to result in arrest? Hint:\n",
    "    - First subset the data to rows where Arrest is True.\n",
    "    - Use this to calculate the number of crimes of each type that lead to arrest.\n",
    "    - Divide this by the series you created in 2\n",
    "    - Finally, sort the values\n",
    "\n",
    "\n",
    "4. Among those types of crime for which there are at least 1000 incidents, which type is most likely to result in arrest?\n",
    "\n",
    "    Hint: Create a boolean series whose index is crime type and value is whether the count is at least 1000. Use that to subset your answer to 3 and then sort.\n",
    "\n",
    "5. What is the number of the community area with the most homicides in 2017? How many were there? What is the community area's name? (You can find a mapping of community area numbers to names online.)\n",
    "\n",
    "6. Create a boolean series indicating whether each crime involved a weapon. Then calculate the percentage of crimes involving a weapon. Hint: Look for descriptions containing words like 'WEAPON', 'GUN', and 'ARM'; but be careful because some descriptions contain 'NO WEAPON'.\n"
   ]
  },
  {
   "cell_type": "code",
   "execution_count": null,
   "id": "e5126b60-52de-42b8-baa3-507810f40b8f",
   "metadata": {},
   "outputs": [],
   "source": []
  }
 ],
 "metadata": {
  "kernelspec": {
   "display_name": "Python 3 (ipykernel)",
   "language": "python",
   "name": "python3"
  },
  "language_info": {
   "codemirror_mode": {
    "name": "ipython",
    "version": 3
   },
   "file_extension": ".py",
   "mimetype": "text/x-python",
   "name": "python",
   "nbconvert_exporter": "python",
   "pygments_lexer": "ipython3",
   "version": "3.10.5"
  }
 },
 "nbformat": 4,
 "nbformat_minor": 5
}
