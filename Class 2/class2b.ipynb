{
 "cells": [
  {
   "cell_type": "markdown",
   "id": "a6eaf6fb",
   "metadata": {
    "slideshow": {
     "slide_type": "slide"
    }
   },
   "source": [
    "# Introduction to Data Science for Public Policy\n",
    "## Class 2: Python Basics\n",
    "## Thomas Monk"
   ]
  },
  {
   "cell_type": "markdown",
   "id": "e92280e6",
   "metadata": {
    "slideshow": {
     "slide_type": "slide"
    }
   },
   "source": [
    "# Functions\n",
    "\n",
    "Functions are a core part of any programming language - expect Stata.\n",
    "\n",
    "If you've been wondering why Stata at times felt clunky, and annoying to express yourself in, this may be the reason why."
   ]
  },
  {
   "cell_type": "markdown",
   "id": "a0937ec0",
   "metadata": {
    "slideshow": {
     "slide_type": "fragment"
    }
   },
   "source": [
    "Functions are simply re-usable pieces of code. They take an input (or any number of inputs), and produce an output."
   ]
  },
  {
   "cell_type": "markdown",
   "id": "73ed8ab5",
   "metadata": {
    "slideshow": {
     "slide_type": "fragment"
    }
   },
   "source": [
    "We've already used one of Python's built in functions."
   ]
  },
  {
   "cell_type": "code",
   "execution_count": 2,
   "id": "927da505",
   "metadata": {},
   "outputs": [
    {
     "name": "stdout",
     "output_type": "stream",
     "text": [
      "Hello, World!\n"
     ]
    }
   ],
   "source": [
    "print(\"Hello, World!\")"
   ]
  },
  {
   "cell_type": "markdown",
   "id": "0d610641",
   "metadata": {
    "slideshow": {
     "slide_type": "fragment"
    }
   },
   "source": [
    "The `print` function takes an input, within its brackets, and produces an output. What's the input here?"
   ]
  },
  {
   "cell_type": "markdown",
   "id": "d8439e06",
   "metadata": {
    "slideshow": {
     "slide_type": "fragment"
    }
   },
   "source": [
    "The string, `\"Hello, World!\"`."
   ]
  },
  {
   "cell_type": "markdown",
   "id": "d5aa0116",
   "metadata": {
    "slideshow": {
     "slide_type": "slide"
    }
   },
   "source": [
    "## Defining our own functions\n",
    "\n",
    "Importantly, we're not limited to Python's own functions - we can define our own using the `def` keyword."
   ]
  },
  {
   "cell_type": "code",
   "execution_count": 5,
   "id": "16488b1b",
   "metadata": {
    "slideshow": {
     "slide_type": "fragment"
    }
   },
   "outputs": [
    {
     "name": "stdout",
     "output_type": "stream",
     "text": [
      "Hello, World!\n"
     ]
    }
   ],
   "source": [
    "def hello():\n",
    "    print(\"Hello, World!\")\n",
    "hello()"
   ]
  },
  {
   "cell_type": "markdown",
   "id": "10f7788c",
   "metadata": {
    "slideshow": {
     "slide_type": "fragment"
    }
   },
   "source": [
    "What's the input to this function? What's the output?"
   ]
  },
  {
   "cell_type": "markdown",
   "id": "8253b366",
   "metadata": {
    "slideshow": {
     "slide_type": "fragment"
    }
   },
   "source": [
    "There *is no* input to this function, and this function outputs \"Hello, World\" (by *calling* the print function!)."
   ]
  },
  {
   "cell_type": "markdown",
   "id": "1bba3f87",
   "metadata": {
    "slideshow": {
     "slide_type": "slide"
    }
   },
   "source": [
    "## Functions\n",
    "Every function is composed of two pieces: a header and body.\n",
    "![header](1.png)"
   ]
  },
  {
   "cell_type": "markdown",
   "id": "675aaecd",
   "metadata": {
    "slideshow": {
     "slide_type": "fragment"
    }
   },
   "source": [
    "In this example, the function takes the input `input_var` and `returns` an output, from a variable we have defined.\n",
    "We use the `return` keyword to tell Python what to output. What's the output of this function, for the input `2`?"
   ]
  },
  {
   "cell_type": "code",
   "execution_count": 7,
   "id": "089e0007",
   "metadata": {
    "slideshow": {
     "slide_type": "fragment"
    }
   },
   "outputs": [
    {
     "data": {
      "text/plain": [
       "5"
      ]
     },
     "execution_count": 7,
     "metadata": {},
     "output_type": "execute_result"
    }
   ],
   "source": [
    "def add_three(input_var):\n",
    "    output_var=input_var+3\n",
    "    return output_var\n",
    "\n",
    "add_three(2)"
   ]
  },
  {
   "cell_type": "markdown",
   "id": "44a065c4",
   "metadata": {
    "slideshow": {
     "slide_type": "slide"
    }
   },
   "source": [
    "### Parameters are local\n",
    "\n",
    "We can define variables within a function, and they are only accessible within that function. We call this the *scope* of a variable."
   ]
  },
  {
   "cell_type": "code",
   "execution_count": 8,
   "id": "35c73a21",
   "metadata": {
    "slideshow": {
     "slide_type": "fragment"
    }
   },
   "outputs": [
    {
     "ename": "NameError",
     "evalue": "name 'secret' is not defined",
     "output_type": "error",
     "traceback": [
      "\u001b[1;31m---------------------------------------------------------------------------\u001b[0m",
      "\u001b[1;31mNameError\u001b[0m                                 Traceback (most recent call last)",
      "\u001b[1;32m<ipython-input-8-bc83ccba8d0d>\u001b[0m in \u001b[0;36m<module>\u001b[1;34m\u001b[0m\n\u001b[0;32m      3\u001b[0m     \u001b[1;32mreturn\u001b[0m \u001b[1;36m0\u001b[0m\u001b[1;33m\u001b[0m\u001b[1;33m\u001b[0m\u001b[0m\n\u001b[0;32m      4\u001b[0m \u001b[1;33m\u001b[0m\u001b[0m\n\u001b[1;32m----> 5\u001b[1;33m \u001b[0mprint\u001b[0m\u001b[1;33m(\u001b[0m\u001b[0msecret\u001b[0m\u001b[1;33m)\u001b[0m\u001b[1;33m\u001b[0m\u001b[1;33m\u001b[0m\u001b[0m\n\u001b[0m",
      "\u001b[1;31mNameError\u001b[0m: name 'secret' is not defined"
     ]
    }
   ],
   "source": [
    "def func():\n",
    "    secret = 42\n",
    "    return 0\n",
    "\n",
    "print(secret)"
   ]
  },
  {
   "cell_type": "markdown",
   "id": "09baac6f",
   "metadata": {
    "slideshow": {
     "slide_type": "slide"
    }
   },
   "source": [
    "### Functions with multiple arguments\n",
    "\n",
    "We can define any number of arguments that we want within a function.\n",
    "\n",
    "We seperate each argument by commas `,` within the parentheses following the function definition."
   ]
  },
  {
   "cell_type": "code",
   "execution_count": 10,
   "id": "06e92176",
   "metadata": {
    "slideshow": {
     "slide_type": "fragment"
    }
   },
   "outputs": [],
   "source": [
    "def multiply_these(num1,num2):\n",
    "    return num1 * num2"
   ]
  },
  {
   "cell_type": "code",
   "execution_count": 11,
   "id": "d2280a8d",
   "metadata": {
    "slideshow": {
     "slide_type": "fragment"
    }
   },
   "outputs": [
    {
     "data": {
      "text/plain": [
       "6"
      ]
     },
     "execution_count": 11,
     "metadata": {},
     "output_type": "execute_result"
    }
   ],
   "source": [
    "multiply_these(2,3)"
   ]
  },
  {
   "cell_type": "markdown",
   "id": "57f3b450",
   "metadata": {
    "slideshow": {
     "slide_type": "slide"
    }
   },
   "source": [
    "### Why functions?"
   ]
  },
  {
   "cell_type": "markdown",
   "id": "3fb0f3e4",
   "metadata": {
    "slideshow": {
     "slide_type": "fragment"
    }
   },
   "source": [
    "- Functions will make your code much more clear - this is important as the size of your codebase increases."
   ]
  },
  {
   "cell_type": "markdown",
   "id": "b5d8c013",
   "metadata": {
    "slideshow": {
     "slide_type": "fragment"
    }
   },
   "source": [
    "- Functions enable you code to be *modular*. You can write a piece of code and reuse it anywhere else."
   ]
  },
  {
   "cell_type": "markdown",
   "id": "ac0a1faa",
   "metadata": {
    "slideshow": {
     "slide_type": "fragment"
    }
   },
   "source": [
    "- You will make less mistakes! You may have noticed in Stata, if we wanted to repeat the same action multiple times to different objects, we often just copied and pasted code. Now we can just write a function, and call and modify that function as we wish."
   ]
  },
  {
   "cell_type": "markdown",
   "id": "c3849161",
   "metadata": {
    "slideshow": {
     "slide_type": "slide"
    }
   },
   "source": [
    "### Pythagorean Example\n",
    "\n",
    "Say we wish to calculate the length of the hypotenuse of three right angled triangles, with short lengths as follows:\n",
    "- (3,4), (1,1), (5,12)\n",
    "\n",
    "Pythagoras tells us the theorum is $c^2 = a^2 + b^2$.\n"
   ]
  },
  {
   "cell_type": "code",
   "execution_count": 14,
   "id": "be8e10d9",
   "metadata": {
    "slideshow": {
     "slide_type": "fragment"
    }
   },
   "outputs": [
    {
     "name": "stdout",
     "output_type": "stream",
     "text": [
      "5.0 1.4142135623730951 13.0\n"
     ]
    }
   ],
   "source": [
    "import math\n",
    "h1 = math.sqrt(3**2 + 4**2)\n",
    "h2 = math.sqrt(1**2 + 1**2)\n",
    "h3 = math.sqrt(5**2 + 12**2)\n",
    "print(h1, h2, h3)"
   ]
  },
  {
   "cell_type": "markdown",
   "id": "31e135b2",
   "metadata": {
    "slideshow": {
     "slide_type": "slide"
    }
   },
   "source": [
    "### Pythagorean Example\n",
    "But what if in 2022, modern mathematics makes a groundbreaking discovery - and the formula to calculate the hypotenuse changes!?"
   ]
  },
  {
   "cell_type": "markdown",
   "id": "4b4e20ac",
   "metadata": {
    "slideshow": {
     "slide_type": "fragment"
    }
   },
   "source": [
    "$c^2 = a^2 + b^3$!"
   ]
  },
  {
   "cell_type": "markdown",
   "id": "cd8b88d6",
   "metadata": {
    "slideshow": {
     "slide_type": "fragment"
    }
   },
   "source": [
    "We now have to go back and edit our code. How would a function make our life easier?"
   ]
  },
  {
   "cell_type": "code",
   "execution_count": 17,
   "id": "73c8d7b0",
   "metadata": {
    "slideshow": {
     "slide_type": "fragment"
    }
   },
   "outputs": [
    {
     "name": "stdout",
     "output_type": "stream",
     "text": [
      "8.54400374531753\n",
      "1.4142135623730951\n",
      "41.86884283091664\n"
     ]
    }
   ],
   "source": [
    "import math\n",
    "def hypotenuse(a, b):\n",
    "    return math.sqrt(a**2 + b**3)\n",
    "print(hypotenuse(3,4))\n",
    "print(hypotenuse(1,1))\n",
    "print(hypotenuse(5,12))"
   ]
  },
  {
   "cell_type": "markdown",
   "id": "e5937750",
   "metadata": {
    "slideshow": {
     "slide_type": "slide"
    }
   },
   "source": [
    "## Conditionals\n",
    "We can use the Boolean logic we discussed in the last section to control the flow of our programs! We saw conditionals in Stata, and used them frequently."
   ]
  },
  {
   "cell_type": "markdown",
   "id": "3802490f",
   "metadata": {
    "slideshow": {
     "slide_type": "fragment"
    }
   },
   "source": [
    "The `if` keyword runs the code following the `:` only if the condition we write is true."
   ]
  },
  {
   "cell_type": "code",
   "execution_count": 19,
   "id": "2fef5ae8",
   "metadata": {
    "slideshow": {
     "slide_type": "fragment"
    }
   },
   "outputs": [
    {
     "name": "stdout",
     "output_type": "stream",
     "text": [
      "Positive\n"
     ]
    }
   ],
   "source": [
    "x = 2\n",
    "if (x>0):\n",
    "    print(\"Positive\")"
   ]
  },
  {
   "cell_type": "markdown",
   "id": "41922760",
   "metadata": {
    "slideshow": {
     "slide_type": "slide"
    }
   },
   "source": [
    "Use `else` to execute code when the condition is `False`:"
   ]
  },
  {
   "cell_type": "code",
   "execution_count": 20,
   "id": "93a03801",
   "metadata": {
    "slideshow": {
     "slide_type": "fragment"
    }
   },
   "outputs": [
    {
     "name": "stdout",
     "output_type": "stream",
     "text": [
      "Negative\n"
     ]
    }
   ],
   "source": [
    "x = -2\n",
    "if (x>0):\n",
    "    print(\"Positive\")\n",
    "else:\n",
    "    print(\"Negative\")"
   ]
  },
  {
   "cell_type": "markdown",
   "id": "0ab7eebc",
   "metadata": {
    "slideshow": {
     "slide_type": "fragment"
    }
   },
   "source": [
    "Or `elif` if we want to check other conditions:"
   ]
  },
  {
   "cell_type": "code",
   "execution_count": 21,
   "id": "71cd6d67",
   "metadata": {
    "slideshow": {
     "slide_type": "fragment"
    }
   },
   "outputs": [
    {
     "name": "stdout",
     "output_type": "stream",
     "text": [
      "Zero\n"
     ]
    }
   ],
   "source": [
    "x = 0\n",
    "if (x>0):\n",
    "    print(\"Positive\")\n",
    "elif (x==0):\n",
    "    print(\"Zero\")\n",
    "else:\n",
    "    print(\"Negative\")"
   ]
  },
  {
   "cell_type": "markdown",
   "id": "6eca1b04",
   "metadata": {
    "slideshow": {
     "slide_type": "fragment"
    }
   },
   "source": [
    "We talked about `AND` and `OR` Boolean logic in PP455 - all of those concepts persist here."
   ]
  }
 ],
 "metadata": {
  "celltoolbar": "Slideshow",
  "kernelspec": {
   "display_name": "Python 3",
   "language": "python",
   "name": "python3"
  },
  "language_info": {
   "codemirror_mode": {
    "name": "ipython",
    "version": 3
   },
   "file_extension": ".py",
   "mimetype": "text/x-python",
   "name": "python",
   "nbconvert_exporter": "python",
   "pygments_lexer": "ipython3",
   "version": "3.9.7"
  }
 },
 "nbformat": 4,
 "nbformat_minor": 5
}
