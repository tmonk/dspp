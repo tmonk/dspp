{
 "cells": [
  {
   "cell_type": "markdown",
   "id": "6b66b7cf-ee69-4c04-b617-35bb63087dd9",
   "metadata": {
    "slideshow": {
     "slide_type": "slide"
    }
   },
   "source": [
    "# Introduction to Data Science for Public Policy\n",
    "## Class 2: Python Basics\n",
    "## Thomas Monk"
   ]
  },
  {
   "cell_type": "markdown",
   "id": "f1836bde",
   "metadata": {
    "slideshow": {
     "slide_type": "slide"
    }
   },
   "source": [
    "# Overview\n",
    "- Now we've set up our environment, we can start learning how to code. \n",
    "- **Aim**: By the end of this session, we will be able to build our first simple Python program!\n",
    "- **Structure**: In general, I'll introduce you to a few concepts, which we'll then apply in some practice problems. I'll ask you to solve these in groups, and we can discuss the solutions."
   ]
  },
  {
   "cell_type": "markdown",
   "id": "2812cc9c",
   "metadata": {
    "slideshow": {
     "slide_type": "slide"
    }
   },
   "source": [
    "# Basics: Arithmetic\n",
    "- Python can do many things. Let's start with some very basic arithmatic.\n",
    "- The *syntax* (the grammar of the programming language) is simple with Python.\n",
    "- We can just ask it to do things in a very natural way."
   ]
  },
  {
   "cell_type": "code",
   "execution_count": 2,
   "id": "19e4134e-2bd7-441d-8e95-781aba141242",
   "metadata": {
    "slideshow": {
     "slide_type": "fragment"
    }
   },
   "outputs": [
    {
     "data": {
      "text/plain": [
       "4"
      ]
     },
     "execution_count": 2,
     "metadata": {},
     "output_type": "execute_result"
    }
   ],
   "source": [
    "2+2"
   ]
  },
  {
   "cell_type": "code",
   "execution_count": 8,
   "id": "a202fd14",
   "metadata": {
    "slideshow": {
     "slide_type": "-"
    }
   },
   "outputs": [
    {
     "data": {
      "text/plain": [
       "6.5"
      ]
     },
     "execution_count": 8,
     "metadata": {},
     "output_type": "execute_result"
    }
   ],
   "source": [
    "2*3 + 1/2"
   ]
  },
  {
   "cell_type": "code",
   "execution_count": 7,
   "id": "b84da1de",
   "metadata": {},
   "outputs": [
    {
     "data": {
      "text/plain": [
       "16"
      ]
     },
     "execution_count": 7,
     "metadata": {},
     "output_type": "execute_result"
    }
   ],
   "source": [
    "4**2"
   ]
  },
  {
   "cell_type": "markdown",
   "id": "a41be402",
   "metadata": {
    "slideshow": {
     "slide_type": "slide"
    }
   },
   "source": [
    "You can control the order of operations in long calculations with brackets."
   ]
  },
  {
   "cell_type": "code",
   "execution_count": 5,
   "id": "e1ab83f3",
   "metadata": {
    "slideshow": {
     "slide_type": "fragment"
    }
   },
   "outputs": [
    {
     "data": {
      "text/plain": [
       "196.0"
      ]
     },
     "execution_count": 5,
     "metadata": {},
     "output_type": "execute_result"
    }
   ],
   "source": [
    "((1 + 3) * (9 - 2) / 2) ** 2"
   ]
  },
  {
   "cell_type": "markdown",
   "id": "b03bcb95",
   "metadata": {
    "slideshow": {
     "slide_type": "fragment"
    }
   },
   "source": [
    "In general, Python follows the BODMAS rule when deciding the order of operations."
   ]
  },
  {
   "cell_type": "markdown",
   "id": "9577ea9f",
   "metadata": {
    "slideshow": {
     "slide_type": "slide"
    }
   },
   "source": [
    "# Basics: Printing\n",
    "By default, our notebook will print to the screen whatever the output of the last line of our cell is.\n"
   ]
  },
  {
   "cell_type": "code",
   "execution_count": 10,
   "id": "8303e07d",
   "metadata": {},
   "outputs": [
    {
     "data": {
      "text/plain": [
       "2"
      ]
     },
     "execution_count": 10,
     "metadata": {},
     "output_type": "execute_result"
    }
   ],
   "source": [
    "2+2\n",
    "2*1"
   ]
  },
  {
   "cell_type": "markdown",
   "id": "69f19d57",
   "metadata": {
    "slideshow": {
     "slide_type": "slide"
    }
   },
   "source": [
    "Notice above that only 2\\*1 was printed.\n",
    "\n",
    "If we want to print something to the screen explicitly, we use the print *function* we've already seen. (We'll get back to the meaning of *function* later on)."
   ]
  },
  {
   "cell_type": "code",
   "execution_count": 11,
   "id": "7d36f4f7",
   "metadata": {
    "slideshow": {
     "slide_type": "fragment"
    }
   },
   "outputs": [
    {
     "name": "stdout",
     "output_type": "stream",
     "text": [
      "Hello, World!\n"
     ]
    },
    {
     "data": {
      "text/plain": [
       "2"
      ]
     },
     "execution_count": 11,
     "metadata": {},
     "output_type": "execute_result"
    }
   ],
   "source": [
    "print(\"Hello, World!\")\n",
    "2*1"
   ]
  },
  {
   "cell_type": "markdown",
   "id": "d44f0b93",
   "metadata": {
    "slideshow": {
     "slide_type": "fragment"
    }
   },
   "source": [
    "Now, both of our lines of code are printed. This is equivalent to typing:"
   ]
  },
  {
   "cell_type": "code",
   "execution_count": 13,
   "id": "abbcb78b",
   "metadata": {
    "slideshow": {
     "slide_type": "fragment"
    }
   },
   "outputs": [
    {
     "name": "stdout",
     "output_type": "stream",
     "text": [
      "Hello, World!\n",
      "2\n"
     ]
    }
   ],
   "source": [
    "print(\"Hello, World!\")\n",
    "print(2*1)"
   ]
  },
  {
   "cell_type": "markdown",
   "id": "b7162934",
   "metadata": {
    "slideshow": {
     "slide_type": "slide"
    }
   },
   "source": [
    "# Data types\n",
    "We've seen a couple of different *types* of data here:"
   ]
  },
  {
   "cell_type": "markdown",
   "id": "816ad466",
   "metadata": {
    "slideshow": {
     "slide_type": "fragment"
    }
   },
   "source": [
    "- integers (the natural numbers: 1, 2, 3...)\n",
    "- floats (numbers with a decimal part, i.e. 1.5, or 196.0)\n",
    "- strings (Hello, World!), denoted by \"STRING\""
   ]
  },
  {
   "cell_type": "markdown",
   "id": "86bfc294",
   "metadata": {
    "slideshow": {
     "slide_type": "fragment"
    }
   },
   "source": [
    "In our transition from Stata to Python, we're going to have to explictly think more often about data types, and ensure they are compatible. But we need to do this much less than in other languages, like C!"
   ]
  },
  {
   "cell_type": "markdown",
   "id": "ffa3f896",
   "metadata": {
    "slideshow": {
     "slide_type": "slide"
    }
   },
   "source": [
    "Python can tell us the types of data like so:"
   ]
  },
  {
   "cell_type": "code",
   "execution_count": 1,
   "id": "e2102a06",
   "metadata": {
    "slideshow": {
     "slide_type": "fragment"
    }
   },
   "outputs": [
    {
     "data": {
      "text/plain": [
       "int"
      ]
     },
     "execution_count": 1,
     "metadata": {},
     "output_type": "execute_result"
    }
   ],
   "source": [
    "type(1)"
   ]
  },
  {
   "cell_type": "code",
   "execution_count": 2,
   "id": "62aa79e7",
   "metadata": {
    "slideshow": {
     "slide_type": "fragment"
    }
   },
   "outputs": [
    {
     "data": {
      "text/plain": [
       "str"
      ]
     },
     "execution_count": 2,
     "metadata": {},
     "output_type": "execute_result"
    }
   ],
   "source": [
    "type(\"Hello, World!\")"
   ]
  },
  {
   "cell_type": "code",
   "execution_count": 9,
   "id": "9ed67a41",
   "metadata": {
    "slideshow": {
     "slide_type": "fragment"
    }
   },
   "outputs": [
    {
     "data": {
      "text/plain": [
       "float"
      ]
     },
     "execution_count": 9,
     "metadata": {},
     "output_type": "execute_result"
    }
   ],
   "source": [
    "type(1.0)"
   ]
  },
  {
   "cell_type": "markdown",
   "id": "ee915de8",
   "metadata": {
    "slideshow": {
     "slide_type": "slide"
    }
   },
   "source": [
    "## Data types\n",
    "What happens when we add a string to an integer?"
   ]
  },
  {
   "cell_type": "code",
   "execution_count": 3,
   "id": "26141a37",
   "metadata": {
    "slideshow": {
     "slide_type": "fragment"
    }
   },
   "outputs": [
    {
     "ename": "TypeError",
     "evalue": "can only concatenate str (not \"int\") to str",
     "output_type": "error",
     "traceback": [
      "\u001b[1;31m---------------------------------------------------------------------------\u001b[0m",
      "\u001b[1;31mTypeError\u001b[0m                                 Traceback (most recent call last)",
      "\u001b[1;32m<ipython-input-3-8f4e7d70a8e7>\u001b[0m in \u001b[0;36m<module>\u001b[1;34m\u001b[0m\n\u001b[1;32m----> 1\u001b[1;33m \u001b[1;34m\"Hello, World!\"\u001b[0m \u001b[1;33m+\u001b[0m \u001b[1;36m1\u001b[0m\u001b[1;33m\u001b[0m\u001b[1;33m\u001b[0m\u001b[0m\n\u001b[0m",
      "\u001b[1;31mTypeError\u001b[0m: can only concatenate str (not \"int\") to str"
     ]
    }
   ],
   "source": [
    "\"Hello, World!\" + 1"
   ]
  },
  {
   "cell_type": "markdown",
   "id": "2dc182b1",
   "metadata": {
    "slideshow": {
     "slide_type": "fragment"
    }
   },
   "source": [
    "We get an error! Notice the error is different when we do this the other way round - we can think more about this later."
   ]
  },
  {
   "cell_type": "code",
   "execution_count": 4,
   "id": "f167b086",
   "metadata": {
    "slideshow": {
     "slide_type": "fragment"
    }
   },
   "outputs": [
    {
     "ename": "TypeError",
     "evalue": "unsupported operand type(s) for +: 'int' and 'str'",
     "output_type": "error",
     "traceback": [
      "\u001b[1;31m---------------------------------------------------------------------------\u001b[0m",
      "\u001b[1;31mTypeError\u001b[0m                                 Traceback (most recent call last)",
      "\u001b[1;32m<ipython-input-4-f4c71721f54f>\u001b[0m in \u001b[0;36m<module>\u001b[1;34m\u001b[0m\n\u001b[1;32m----> 1\u001b[1;33m \u001b[1;36m2\u001b[0m \u001b[1;33m+\u001b[0m \u001b[1;34m\"Hello, World!\"\u001b[0m\u001b[1;33m\u001b[0m\u001b[1;33m\u001b[0m\u001b[0m\n\u001b[0m",
      "\u001b[1;31mTypeError\u001b[0m: unsupported operand type(s) for +: 'int' and 'str'"
     ]
    }
   ],
   "source": [
    "2 + \"Hello, World!\""
   ]
  },
  {
   "cell_type": "markdown",
   "id": "57920ccf",
   "metadata": {
    "slideshow": {
     "slide_type": "slide"
    }
   },
   "source": [
    "## Other useful data types\n",
    "\n",
    "### Booleans\n",
    "Booleans represent one of two values: `True` or `False`. In the code cell below, `True` has the type `bool`."
   ]
  },
  {
   "cell_type": "code",
   "execution_count": 16,
   "id": "8e1566ca",
   "metadata": {
    "slideshow": {
     "slide_type": "fragment"
    }
   },
   "outputs": [
    {
     "data": {
      "text/plain": [
       "bool"
      ]
     },
     "execution_count": 16,
     "metadata": {},
     "output_type": "execute_result"
    }
   ],
   "source": [
    "type(True)"
   ]
  },
  {
   "cell_type": "markdown",
   "id": "90b5e426",
   "metadata": {
    "slideshow": {
     "slide_type": "fragment"
    }
   },
   "source": [
    "Bools represent truth values in general. Here, Python will tell us if 5 is less than 6:"
   ]
  },
  {
   "cell_type": "code",
   "execution_count": 19,
   "id": "549660a0",
   "metadata": {},
   "outputs": [
    {
     "name": "stdout",
     "output_type": "stream",
     "text": [
      "True\n",
      "<class 'bool'>\n"
     ]
    }
   ],
   "source": [
    "print(5<6)\n",
    "print(type(5<6))"
   ]
  },
  {
   "cell_type": "markdown",
   "id": "c7266e5c",
   "metadata": {
    "slideshow": {
     "slide_type": "slide"
    }
   },
   "source": [
    "### Booleans\n",
    "We can also modify our booleans. I'll invert a `True` with a `not`."
   ]
  },
  {
   "cell_type": "code",
   "execution_count": 20,
   "id": "a8aae646",
   "metadata": {
    "slideshow": {
     "slide_type": "fragment"
    }
   },
   "outputs": [
    {
     "data": {
      "text/plain": [
       "False"
      ]
     },
     "execution_count": 20,
     "metadata": {},
     "output_type": "execute_result"
    }
   ],
   "source": [
    "not True"
   ]
  },
  {
   "cell_type": "markdown",
   "id": "655a569b",
   "metadata": {
    "slideshow": {
     "slide_type": "slide"
    }
   },
   "source": [
    "## Comments\n",
    "We use comments to annotate what code is doing. These become much more important when we have large amounts of code.\n",
    "\n",
    "For instance, in the next code cell, we multiply 3 by 2. We also add a comment (# Multiply 3 by 2) above the code to describe what the code is doing."
   ]
  },
  {
   "cell_type": "code",
   "execution_count": 10,
   "id": "0b1132f4",
   "metadata": {
    "slideshow": {
     "slide_type": "fragment"
    }
   },
   "outputs": [
    {
     "name": "stdout",
     "output_type": "stream",
     "text": [
      "6\n"
     ]
    }
   ],
   "source": [
    "# Multiply 3 by 2\n",
    "print(3 * 2)"
   ]
  },
  {
   "cell_type": "markdown",
   "id": "f1234faa",
   "metadata": {
    "slideshow": {
     "slide_type": "fragment"
    }
   },
   "source": [
    "To indicate to Python that a line is comment (and not Python code), you need to write a hash sign (#) as the very first character."
   ]
  },
  {
   "cell_type": "markdown",
   "id": "0519e294",
   "metadata": {
    "slideshow": {
     "slide_type": "slide"
    }
   },
   "source": [
    "## Variables\n",
    "\n",
    "So far, our calculations have been ephemeral. We ask Python to do something, and we lose the output forever.\n",
    "\n",
    "We can now introduce something reasonably foreign to us from Stata: the concept of a **variable**. These are persistent stores of data, which we can name however we want."
   ]
  },
  {
   "cell_type": "code",
   "execution_count": 12,
   "id": "f3e87467",
   "metadata": {
    "slideshow": {
     "slide_type": "fragment"
    }
   },
   "outputs": [
    {
     "name": "stdout",
     "output_type": "stream",
     "text": [
      "5\n"
     ]
    }
   ],
   "source": [
    "my_variable = 5\n",
    "print(my_variable)"
   ]
  },
  {
   "cell_type": "markdown",
   "id": "4528097c",
   "metadata": {
    "slideshow": {
     "slide_type": "fragment"
    }
   },
   "source": [
    "Here, we create the variable *my_variable*, and set it to the value of 5, which we then print to the screen.\n",
    "\n",
    "We assign the value to the variable with the equals sign - we assign the value on the right to the variable on the left of the =."
   ]
  },
  {
   "cell_type": "markdown",
   "id": "60d5e346",
   "metadata": {
    "slideshow": {
     "slide_type": "slide"
    }
   },
   "source": [
    "## Manipulating multiple variables\n",
    "\n",
    "We can have as many variables as we can define - it's normal to have a large number of variables in your code.\n",
    "\n",
    "Remember to name them with names that you can refer back to later, and understand what they are!\n",
    "\n",
    "We can also modify the contents of our variables at any point in time."
   ]
  },
  {
   "cell_type": "code",
   "execution_count": 21,
   "id": "25c6859c",
   "metadata": {
    "slideshow": {
     "slide_type": "fragment"
    }
   },
   "outputs": [
    {
     "name": "stdout",
     "output_type": "stream",
     "text": [
      "3\n"
     ]
    }
   ],
   "source": [
    "my_var1 = 1\n",
    "my_var2 = 2\n",
    "\n",
    "print(my_var1 + my_var2)"
   ]
  },
  {
   "cell_type": "code",
   "execution_count": 22,
   "id": "6ecf9184",
   "metadata": {
    "slideshow": {
     "slide_type": "fragment"
    }
   },
   "outputs": [
    {
     "name": "stdout",
     "output_type": "stream",
     "text": [
      "2\n"
     ]
    }
   ],
   "source": [
    "myvar_1 = 1\n",
    "myvar_1 = 2\n",
    "print(myvar_1)"
   ]
  },
  {
   "cell_type": "markdown",
   "id": "57b0050f",
   "metadata": {
    "slideshow": {
     "slide_type": "slide"
    }
   },
   "source": [
    "## Manipulating multiple variables"
   ]
  },
  {
   "cell_type": "code",
   "execution_count": 25,
   "id": "5b6c7e69",
   "metadata": {
    "slideshow": {
     "slide_type": "fragment"
    }
   },
   "outputs": [],
   "source": [
    "# Create variables\n",
    "num_years = 4\n",
    "days_per_year = 365 \n",
    "hours_per_day = 24\n",
    "mins_per_hour = 60\n",
    "secs_per_min = 60\n",
    "\n",
    "# Calculate number of seconds in four years - how?"
   ]
  },
  {
   "cell_type": "code",
   "execution_count": 26,
   "id": "4c3914a0",
   "metadata": {
    "slideshow": {
     "slide_type": "fragment"
    }
   },
   "outputs": [
    {
     "name": "stdout",
     "output_type": "stream",
     "text": [
      "126144000\n"
     ]
    }
   ],
   "source": [
    "total_secs = secs_per_min * mins_per_hour * hours_per_day * days_per_year * num_years\n",
    "print(total_secs)"
   ]
  },
  {
   "cell_type": "markdown",
   "id": "49311a4b",
   "metadata": {
    "slideshow": {
     "slide_type": "slide"
    }
   },
   "source": [
    "## Modules\n",
    "\n",
    "As I've mentioned, there is a large number of software availible for us to use in Python.\n",
    "\n",
    "Millions of people use Python, and a significant proportion of them make *modules* for us to use."
   ]
  },
  {
   "cell_type": "markdown",
   "id": "6475431c",
   "metadata": {
    "slideshow": {
     "slide_type": "fragment"
    }
   },
   "source": [
    "Here we're going to import the `math` module, and use the code within it.\n",
    "We do this with the `import` command."
   ]
  },
  {
   "cell_type": "code",
   "execution_count": 4,
   "id": "d0445664",
   "metadata": {
    "slideshow": {
     "slide_type": "fragment"
    }
   },
   "outputs": [
    {
     "data": {
      "text/plain": [
       "3.141592653589793"
      ]
     },
     "execution_count": 4,
     "metadata": {},
     "output_type": "execute_result"
    }
   ],
   "source": [
    "import math\n",
    "math.pi # Provides us easy access to pi! This is one of many things the module provides."
   ]
  }
 ],
 "metadata": {
  "celltoolbar": "Slideshow",
  "kernelspec": {
   "display_name": "Python 3",
   "language": "python",
   "name": "python3"
  },
  "language_info": {
   "codemirror_mode": {
    "name": "ipython",
    "version": 3
   },
   "file_extension": ".py",
   "mimetype": "text/x-python",
   "name": "python",
   "nbconvert_exporter": "python",
   "pygments_lexer": "ipython3",
   "version": "3.9.7"
  }
 },
 "nbformat": 4,
 "nbformat_minor": 5
}
