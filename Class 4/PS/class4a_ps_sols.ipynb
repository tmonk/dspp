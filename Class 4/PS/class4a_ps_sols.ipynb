{
 "cells": [
  {
   "cell_type": "code",
   "execution_count": 28,
   "id": "2780ce2f",
   "metadata": {},
   "outputs": [
    {
     "data": {
      "text/plain": [
       "True"
      ]
     },
     "execution_count": 28,
     "metadata": {},
     "output_type": "execute_result"
    }
   ],
   "source": [
    "inventory = {\n",
    "    'gold' : 500,\n",
    "    'pouch' : ['flint', 'twine', 'gemstone', 'big key', 'small key', 'keyboard'],\n",
    "    'backpack' : [['spade', 'saw'], 'xylophone','dagger', 'bedroll','bread loaf', 'snake']\n",
    "}\n",
    "inventory['pocket']=['seashell', 'strange berry', 'leaf']\n",
    "inventory['pouch'].sort()\n",
    "inventory['backpack'].remove('dagger')\n",
    "inventory['gold']=inventory['gold']+50\n",
    "\n",
    "def check_win(inventory):\n",
    "    pouch_check = False\n",
    "    if ('big key' in inventory['pouch']) or (inventory['pouch'].count('small key') >= 2):\n",
    "        pouch_check = 1\n",
    "    \n",
    "    backpack_check = True\n",
    "    if 'snake' in inventory['backpack']:\n",
    "        backpack_check = False\n",
    "    \n",
    "    gold_check = False\n",
    "    if inventory['gold'] >= 500:\n",
    "        gold_check = True\n",
    "        \n",
    "    spade_check = False\n",
    "    if inventory['backpack'][0][0] == 'spade':\n",
    "        spade_check = True\n",
    "        \n",
    "    win_condition = pouch_check and backpack_check and gold_check and spade_check\n",
    "    return win_condition\n",
    "\n",
    "inventory['backpack'].remove('snake')\n",
    "check_win(inventory)"
   ]
  },
  {
   "cell_type": "code",
   "execution_count": 51,
   "id": "52d110c6",
   "metadata": {},
   "outputs": [
    {
     "name": "stdout",
     "output_type": "stream",
     "text": [
      "34\n"
     ]
    },
    {
     "data": {
      "text/plain": [
       "1"
      ]
     },
     "execution_count": 51,
     "metadata": {},
     "output_type": "execute_result"
    }
   ],
   "source": [
    "my_hands = [['J', 4, 'Q'],\n",
    "            ['J', 9, 'A'],\n",
    "            [2, 6, 'A'],\n",
    "            ['A', 3, 'A'],\n",
    "            [6, 9, 10]\n",
    "]\n",
    "\n",
    "def check_win(hands):\n",
    "    winner = False\n",
    "    highest_score = 0\n",
    "    translate = {'J': 11, 'Q': 12, 'K': 13, 'A': 14}\n",
    "    i = 0\n",
    "    for hand in hands:\n",
    "        sum_hand = 0\n",
    "        for card in hand:\n",
    "            if card == 'J' or card == 'Q' or card == 'K' or card == 'A':\n",
    "                card = translate[card]\n",
    "            sum_hand = sum_hand + card\n",
    "            \n",
    "        if(sum_hand>highest_score):\n",
    "            highest_score = sum_hand\n",
    "            winner = i\n",
    "        i = i + 1\n",
    "                   \n",
    "check_win(my_hands)"
   ]
  },
  {
   "cell_type": "code",
   "execution_count": null,
   "id": "3fa07e72-ceff-4dfc-aba5-addbd78b16fd",
   "metadata": {},
   "outputs": [],
   "source": []
  },
  {
   "cell_type": "code",
   "execution_count": null,
   "id": "51d3e0b1",
   "metadata": {},
   "outputs": [],
   "source": [
    "def menu_is_boring(meals):\n",
    "    # Iterate over all indices of the list, except the last one\n",
    "    for i in range(len(meals)-1):\n",
    "        if meals[i] == meals[i+1]:\n",
    "            return True\n",
    "    return False"
   ]
  },
  {
   "cell_type": "code",
   "execution_count": 2,
   "id": "f2926cee",
   "metadata": {},
   "outputs": [
    {
     "data": {
      "text/plain": [
       "[0, 1]"
      ]
     },
     "execution_count": 2,
     "metadata": {},
     "output_type": "execute_result"
    }
   ],
   "source": [
    "def word_search(doc_list, keyword):\n",
    "    # list to hold the indices of matching documents\n",
    "    indices = [] \n",
    "    # Iterate through the indices (i) and elements (doc) of documents\n",
    "    i = 0\n",
    "    for doc in doc_list:\n",
    "        # Split the string doc into a list of words (according to whitespace)\n",
    "        tokens = doc.split()\n",
    "        # Make a transformed list where we 'normalize' each word to facilitate matching.\n",
    "        # Periods and commas are removed from the end of each word, and it's set to all lowercase.\n",
    "        normalized = [token.rstrip('.,').lower() for token in tokens]\n",
    "        # Is there a match? If so, update the list of matching indices.\n",
    "        if keyword.lower() in normalized:\n",
    "            indices.append(i)\n",
    "        i = i + 1\n",
    "    return indices\n",
    "\n",
    "doc_list = [\"They Park Tower Casino.\", \"They bought a casio\", \"Casinoville\"]\n",
    "word_search(doc_list, 'They')"
   ]
  },
  {
   "cell_type": "code",
   "execution_count": 9,
   "id": "95024e5c-3cc7-48e1-9567-323b83539342",
   "metadata": {},
   "outputs": [
    {
     "name": "stdout",
     "output_type": "stream",
     "text": [
      "[27, 34, 22, 31, 25]\n",
      "34\n",
      "2\n"
     ]
    }
   ],
   "source": [
    "my_hands = [['J', 4, 'Q'],\n",
    "            ['J', 9, 'A'],\n",
    "            [2, 6, 'A'],\n",
    "            ['A', 3, 'A'],\n",
    "            [6, 9, 10]\n",
    "]\n",
    "\n",
    "def check_win(hands):\n",
    "    translate = {'J': 11, 'Q': 12, 'K': 13, 'A': 14}\n",
    "    sum_hands = [] # the sum of each hand, as a list\n",
    "    \n",
    "    def hand_sum_fn(hand):\n",
    "        for card in hand:\n",
    "            var_card = card\n",
    "            if card == 'J' or card == 'Q' or card == 'K' or card == 'A':\n",
    "                var_card = translate[card]\n",
    "            hand_sum.append(var_card)\n",
    "        sum_hand = sum(hand_sum)\n",
    "        return sum_hand\n",
    "    \n",
    "    for hand in hands:\n",
    "        hand_sum_fn(hand)\n",
    "        \n",
    "                         \n",
    "    print(sum_hands)\n",
    "    winner_index = sum_hands.index(max(sum_hands))\n",
    "    print(max(sum_hands))\n",
    "    print(winner_index+1)\n",
    "                   \n",
    "check_win(my_hands)"
   ]
  },
  {
   "cell_type": "code",
   "execution_count": null,
   "id": "82521865-c200-4577-a157-2950c7655e9b",
   "metadata": {},
   "outputs": [],
   "source": []
  }
 ],
 "metadata": {
  "kernelspec": {
   "display_name": "Python 3 (ipykernel)",
   "language": "python",
   "name": "python3"
  },
  "language_info": {
   "codemirror_mode": {
    "name": "ipython",
    "version": 3
   },
   "file_extension": ".py",
   "mimetype": "text/x-python",
   "name": "python",
   "nbconvert_exporter": "python",
   "pygments_lexer": "ipython3",
   "version": "3.9.12"
  }
 },
 "nbformat": 4,
 "nbformat_minor": 5
}
