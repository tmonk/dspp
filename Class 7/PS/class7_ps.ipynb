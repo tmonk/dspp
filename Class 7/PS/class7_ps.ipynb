{
 "cells": [
  {
   "cell_type": "markdown",
   "id": "f14d0042",
   "metadata": {},
   "source": [
    "# Assignment 7: Further Exploration of Chicago Crimes\n",
    "- with thanks to Eric Potash\n",
    "\n",
    "\n",
    "In this assignment we will continue to explore the Chicago crimes dataset using the more advanced operations we've learned including merging and group aggregation.\n",
    "\n",
    "1. Load the 2017 crime data from assignment 5. Also load the [community area socioeconomic data](https://data.cityofchicago.org/Health-Human-Services/Census-Data-Selected-socioeconomic-indicators-in-C/kn9c-c2s2) and get rid of the row corresponding to the whole city of Chicago (it's missing a `Community Area Number`).\n",
    "\n",
    "    (**Downloading the data**. To download the data you'll need to Export to CSV on the web page.)\n",
    "\n",
    "    Calculate the number of crimes per community area. Merge this with the socioeconomic data to plot a scatter with per capita income on the x axis and crime count on the y axis. Save the plot as `crimes_by_income.png`.\n",
    "\n",
    "    Hint:\n",
    "     - Turn the crime counts into a dataframe using `reset_index()` as we discussed. Either name the community area nunber column `Community Area Number` to match the corresponding column in the socioeconomic data, or use separate `left_on` and `right_on` arguments to `merge()`.\n",
    "     - To make a scatter plot, call `plot()` on the DataFrame with an argument `kind='scatter'` and additional arguments `x` and `y` specifying the names of the columns to use for `x` and `y` data.\n",
    "    \n",
    "2. Repeat #1 for homicide counts.\n",
    "\n",
    "    Hint: The homicide counts will be missing rows for community areas that had no homicides. The default, inner, merge between homocide counts and socioeconomic data will thus be missing these areas. To get the right answer, you will need to select a different merge type using the `how` argument and then fill in the missing homocide counts with zeros."
   ]
  },
  {
   "cell_type": "code",
   "execution_count": null,
   "id": "9a823ac5",
   "metadata": {},
   "outputs": [],
   "source": []
  }
 ],
 "metadata": {
  "kernelspec": {
   "display_name": "Python 3 (ipykernel)",
   "language": "python",
   "name": "python3"
  },
  "language_info": {
   "codemirror_mode": {
    "name": "ipython",
    "version": 3
   },
   "file_extension": ".py",
   "mimetype": "text/x-python",
   "name": "python",
   "nbconvert_exporter": "python",
   "pygments_lexer": "ipython3",
   "version": "3.10.5"
  }
 },
 "nbformat": 4,
 "nbformat_minor": 5
}
