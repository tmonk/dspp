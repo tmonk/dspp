{
 "cells": [
  {
   "cell_type": "code",
   "execution_count": 8,
   "id": "2d84f28c",
   "metadata": {
    "slideshow": {
     "slide_type": "skip"
    }
   },
   "outputs": [],
   "source": [
    "import pandas as pd\n",
    "import numpy as np\n",
    "df = pd.read_csv('../Class 6/salaries.csv')"
   ]
  },
  {
   "cell_type": "markdown",
   "id": "cd954068",
   "metadata": {
    "slideshow": {
     "slide_type": "slide"
    }
   },
   "source": [
    "# Introduction to Data Science for Public Policy\n",
    "## Class 7a: More advanced Pandas - Class 5's assignment\n",
    "## Thomas Monk"
   ]
  },
  {
   "cell_type": "markdown",
   "id": "56fa6ad6",
   "metadata": {
    "slideshow": {
     "slide_type": "slide"
    }
   },
   "source": [
    "First, let's go through Class 5's assignment - but this time with Pandas.\n",
    "\n",
    "Open it again with me, and let's work through it together."
   ]
  },
  {
   "cell_type": "markdown",
   "id": "f80161fc",
   "metadata": {
    "slideshow": {
     "slide_type": "slide"
    }
   },
   "source": [
    "### Get columns - let's see what's there.\n",
    "Provides you with a list of columns (this is just a series, note the data type that it gives you.)"
   ]
  },
  {
   "cell_type": "code",
   "execution_count": 9,
   "id": "e109936d",
   "metadata": {
    "slideshow": {
     "slide_type": "fragment"
    }
   },
   "outputs": [
    {
     "data": {
      "text/plain": [
       "Index(['Name', 'Job Titles', 'Department', 'Full or Part-Time',\n",
       "       'Salary or Hourly', 'Typical Hours', 'Annual Salary', 'Hourly Rate'],\n",
       "      dtype='object')"
      ]
     },
     "execution_count": 9,
     "metadata": {},
     "output_type": "execute_result"
    }
   ],
   "source": [
    "df.columns"
   ]
  },
  {
   "cell_type": "code",
   "execution_count": 16,
   "id": "a072f9a3",
   "metadata": {
    "slideshow": {
     "slide_type": "fragment"
    }
   },
   "outputs": [
    {
     "data": {
      "text/plain": [
       "count    8022.000000\n",
       "mean       34.507604\n",
       "std         9.252077\n",
       "min        10.000000\n",
       "25%        20.000000\n",
       "50%        40.000000\n",
       "75%        40.000000\n",
       "max        40.000000\n",
       "Name: Typical Hours, dtype: float64"
      ]
     },
     "execution_count": 16,
     "metadata": {},
     "output_type": "execute_result"
    }
   ],
   "source": [
    "df['Typical Hours'].describe() # some useful descriptive statistics."
   ]
  },
  {
   "cell_type": "markdown",
   "id": "1f548b31",
   "metadata": {
    "slideshow": {
     "slide_type": "fragment"
    }
   },
   "source": [
    "Question 1: How many employees does the city have?"
   ]
  },
  {
   "cell_type": "markdown",
   "id": "d500aaa2",
   "metadata": {
    "slideshow": {
     "slide_type": "slide"
    }
   },
   "source": [
    "### Null/missing values\n",
    "#### Q2: How many full time employees are there?\n",
    "Something we often came across in Stata. Ideas?"
   ]
  },
  {
   "cell_type": "code",
   "execution_count": 143,
   "id": "7cef995d",
   "metadata": {
    "slideshow": {
     "slide_type": "fragment"
    }
   },
   "outputs": [
    {
     "data": {
      "text/plain": [
       "0         True\n",
       "1         True\n",
       "2         True\n",
       "3         True\n",
       "4        False\n",
       "         ...  \n",
       "33178     True\n",
       "33179     True\n",
       "33180     True\n",
       "33181     True\n",
       "33182     True\n",
       "Name: Typical Hours, Length: 33183, dtype: bool"
      ]
     },
     "execution_count": 143,
     "metadata": {},
     "output_type": "execute_result"
    }
   ],
   "source": [
    "df['Typical Hours'].isnull() #How do we get the proportion?"
   ]
  },
  {
   "cell_type": "markdown",
   "id": "be13710a",
   "metadata": {
    "slideshow": {
     "slide_type": "fragment"
    }
   },
   "source": [
    "Instead of summing, it can be more useful to take the mean, which\n",
    "corresponds to the proportion of missing values:"
   ]
  },
  {
   "cell_type": "code",
   "execution_count": 18,
   "id": "9900e8fc",
   "metadata": {
    "slideshow": {
     "slide_type": "fragment"
    }
   },
   "outputs": [
    {
     "data": {
      "text/plain": [
       "0.7582497061748485"
      ]
     },
     "execution_count": 18,
     "metadata": {},
     "output_type": "execute_result"
    }
   ],
   "source": [
    "df['Typical Hours'].isnull().mean()"
   ]
  },
  {
   "cell_type": "markdown",
   "id": "d3cd673c",
   "metadata": {
    "slideshow": {
     "slide_type": "slide"
    }
   },
   "source": [
    "**Missing values**. We can also run this on a Data Frame - we now just have a DF output."
   ]
  },
  {
   "cell_type": "code",
   "execution_count": 19,
   "id": "522f7824",
   "metadata": {
    "slideshow": {
     "slide_type": "fragment"
    }
   },
   "outputs": [
    {
     "data": {
      "text/html": [
       "<div>\n",
       "<style scoped>\n",
       "    .dataframe tbody tr th:only-of-type {\n",
       "        vertical-align: middle;\n",
       "    }\n",
       "\n",
       "    .dataframe tbody tr th {\n",
       "        vertical-align: top;\n",
       "    }\n",
       "\n",
       "    .dataframe thead th {\n",
       "        text-align: right;\n",
       "    }\n",
       "</style>\n",
       "<table border=\"1\" class=\"dataframe\">\n",
       "  <thead>\n",
       "    <tr style=\"text-align: right;\">\n",
       "      <th></th>\n",
       "      <th>Name</th>\n",
       "      <th>Job Titles</th>\n",
       "      <th>Department</th>\n",
       "      <th>Full or Part-Time</th>\n",
       "      <th>Salary or Hourly</th>\n",
       "      <th>Typical Hours</th>\n",
       "      <th>Annual Salary</th>\n",
       "      <th>Hourly Rate</th>\n",
       "    </tr>\n",
       "  </thead>\n",
       "  <tbody>\n",
       "    <tr>\n",
       "      <th>0</th>\n",
       "      <td>False</td>\n",
       "      <td>False</td>\n",
       "      <td>False</td>\n",
       "      <td>False</td>\n",
       "      <td>False</td>\n",
       "      <td>True</td>\n",
       "      <td>False</td>\n",
       "      <td>True</td>\n",
       "    </tr>\n",
       "    <tr>\n",
       "      <th>1</th>\n",
       "      <td>False</td>\n",
       "      <td>False</td>\n",
       "      <td>False</td>\n",
       "      <td>False</td>\n",
       "      <td>False</td>\n",
       "      <td>True</td>\n",
       "      <td>False</td>\n",
       "      <td>True</td>\n",
       "    </tr>\n",
       "    <tr>\n",
       "      <th>2</th>\n",
       "      <td>False</td>\n",
       "      <td>False</td>\n",
       "      <td>False</td>\n",
       "      <td>False</td>\n",
       "      <td>False</td>\n",
       "      <td>True</td>\n",
       "      <td>False</td>\n",
       "      <td>True</td>\n",
       "    </tr>\n",
       "    <tr>\n",
       "      <th>3</th>\n",
       "      <td>False</td>\n",
       "      <td>False</td>\n",
       "      <td>False</td>\n",
       "      <td>False</td>\n",
       "      <td>False</td>\n",
       "      <td>True</td>\n",
       "      <td>False</td>\n",
       "      <td>True</td>\n",
       "    </tr>\n",
       "    <tr>\n",
       "      <th>4</th>\n",
       "      <td>False</td>\n",
       "      <td>False</td>\n",
       "      <td>False</td>\n",
       "      <td>False</td>\n",
       "      <td>False</td>\n",
       "      <td>False</td>\n",
       "      <td>True</td>\n",
       "      <td>False</td>\n",
       "    </tr>\n",
       "    <tr>\n",
       "      <th>...</th>\n",
       "      <td>...</td>\n",
       "      <td>...</td>\n",
       "      <td>...</td>\n",
       "      <td>...</td>\n",
       "      <td>...</td>\n",
       "      <td>...</td>\n",
       "      <td>...</td>\n",
       "      <td>...</td>\n",
       "    </tr>\n",
       "    <tr>\n",
       "      <th>33178</th>\n",
       "      <td>False</td>\n",
       "      <td>False</td>\n",
       "      <td>False</td>\n",
       "      <td>False</td>\n",
       "      <td>False</td>\n",
       "      <td>True</td>\n",
       "      <td>False</td>\n",
       "      <td>True</td>\n",
       "    </tr>\n",
       "    <tr>\n",
       "      <th>33179</th>\n",
       "      <td>False</td>\n",
       "      <td>False</td>\n",
       "      <td>False</td>\n",
       "      <td>False</td>\n",
       "      <td>False</td>\n",
       "      <td>True</td>\n",
       "      <td>False</td>\n",
       "      <td>True</td>\n",
       "    </tr>\n",
       "    <tr>\n",
       "      <th>33180</th>\n",
       "      <td>False</td>\n",
       "      <td>False</td>\n",
       "      <td>False</td>\n",
       "      <td>False</td>\n",
       "      <td>False</td>\n",
       "      <td>True</td>\n",
       "      <td>False</td>\n",
       "      <td>True</td>\n",
       "    </tr>\n",
       "    <tr>\n",
       "      <th>33181</th>\n",
       "      <td>False</td>\n",
       "      <td>False</td>\n",
       "      <td>False</td>\n",
       "      <td>False</td>\n",
       "      <td>False</td>\n",
       "      <td>True</td>\n",
       "      <td>False</td>\n",
       "      <td>True</td>\n",
       "    </tr>\n",
       "    <tr>\n",
       "      <th>33182</th>\n",
       "      <td>False</td>\n",
       "      <td>False</td>\n",
       "      <td>False</td>\n",
       "      <td>False</td>\n",
       "      <td>False</td>\n",
       "      <td>True</td>\n",
       "      <td>False</td>\n",
       "      <td>True</td>\n",
       "    </tr>\n",
       "  </tbody>\n",
       "</table>\n",
       "<p>33183 rows × 8 columns</p>\n",
       "</div>"
      ],
      "text/plain": [
       "        Name  Job Titles  Department  Full or Part-Time  Salary or Hourly  \\\n",
       "0      False       False       False              False             False   \n",
       "1      False       False       False              False             False   \n",
       "2      False       False       False              False             False   \n",
       "3      False       False       False              False             False   \n",
       "4      False       False       False              False             False   \n",
       "...      ...         ...         ...                ...               ...   \n",
       "33178  False       False       False              False             False   \n",
       "33179  False       False       False              False             False   \n",
       "33180  False       False       False              False             False   \n",
       "33181  False       False       False              False             False   \n",
       "33182  False       False       False              False             False   \n",
       "\n",
       "       Typical Hours  Annual Salary  Hourly Rate  \n",
       "0               True          False         True  \n",
       "1               True          False         True  \n",
       "2               True          False         True  \n",
       "3               True          False         True  \n",
       "4              False           True        False  \n",
       "...              ...            ...          ...  \n",
       "33178           True          False         True  \n",
       "33179           True          False         True  \n",
       "33180           True          False         True  \n",
       "33181           True          False         True  \n",
       "33182           True          False         True  \n",
       "\n",
       "[33183 rows x 8 columns]"
      ]
     },
     "execution_count": 19,
     "metadata": {},
     "output_type": "execute_result"
    }
   ],
   "source": [
    "df.isnull()"
   ]
  },
  {
   "cell_type": "code",
   "execution_count": 20,
   "id": "9e65bfac",
   "metadata": {
    "slideshow": {
     "slide_type": "fragment"
    }
   },
   "outputs": [
    {
     "data": {
      "text/plain": [
       "Name                 0.00000\n",
       "Job Titles           0.00000\n",
       "Department           0.00000\n",
       "Full or Part-Time    0.00000\n",
       "Salary or Hourly     0.00000\n",
       "Typical Hours        0.75825\n",
       "Annual Salary        0.24175\n",
       "Hourly Rate          0.75825\n",
       "dtype: float64"
      ]
     },
     "execution_count": 20,
     "metadata": {},
     "output_type": "execute_result"
    }
   ],
   "source": [
    "df.isnull().mean() # and obtain proportions for the entire DF."
   ]
  },
  {
   "cell_type": "markdown",
   "id": "deb61b6d",
   "metadata": {
    "slideshow": {
     "slide_type": "slide"
    }
   },
   "source": [
    "**Imputation** We can fill missing values with fillna. (There's a more complicated imputation method worth looking at)"
   ]
  },
  {
   "cell_type": "code",
   "execution_count": 141,
   "id": "faf80983",
   "metadata": {
    "slideshow": {
     "slide_type": "fragment"
    }
   },
   "outputs": [
    {
     "data": {
      "text/plain": [
       "0        40.0\n",
       "1        40.0\n",
       "2        40.0\n",
       "3        40.0\n",
       "4        20.0\n",
       "         ... \n",
       "33178    40.0\n",
       "33179    40.0\n",
       "33180    40.0\n",
       "33181    40.0\n",
       "33182    40.0\n",
       "Name: Typical Hours, Length: 33183, dtype: float64"
      ]
     },
     "execution_count": 141,
     "metadata": {},
     "output_type": "execute_result"
    }
   ],
   "source": [
    "df['Typical Hours'].fillna(40) #All missing hours are now full time work weeks."
   ]
  },
  {
   "cell_type": "markdown",
   "id": "5c5e3c88",
   "metadata": {
    "slideshow": {
     "slide_type": "fragment"
    }
   },
   "source": [
    "Would this assign itself to the dataframe?"
   ]
  },
  {
   "cell_type": "markdown",
   "id": "f4d57eea",
   "metadata": {
    "slideshow": {
     "slide_type": "fragment"
    }
   },
   "source": [
    "No - we'd either have to assign it with equals (=) or we can use the inplace argument:\n",
    "\n",
    "`fillna(inplace=True)`. We can pass this to many methods to skip the assignment if it's easier!"
   ]
  },
  {
   "cell_type": "markdown",
   "id": "5259c629",
   "metadata": {
    "slideshow": {
     "slide_type": "slide"
    }
   },
   "source": [
    "**Counting values** Given a series, we can get a new series which is a histogram of the\n",
    "original using the value_counts function:"
   ]
  },
  {
   "cell_type": "code",
   "execution_count": 24,
   "id": "8940ef10",
   "metadata": {
    "slideshow": {
     "slide_type": "fragment"
    }
   },
   "outputs": [
    {
     "data": {
      "text/plain": [
       "POLICE           13414\n",
       "FIRE              4641\n",
       "STREETS & SAN     2198\n",
       "Name: Department, dtype: int64"
      ]
     },
     "execution_count": 24,
     "metadata": {},
     "output_type": "execute_result"
    }
   ],
   "source": [
    "df.Department.value_counts().head(3) # Q4: How many employees are in the police department?\n",
    "# Q6: How big is the largest department? Which one is it?"
   ]
  },
  {
   "cell_type": "code",
   "execution_count": 28,
   "id": "38c58945",
   "metadata": {
    "slideshow": {
     "slide_type": "fragment"
    }
   },
   "outputs": [
    {
     "data": {
      "text/plain": [
       "F    31090\n",
       "P     2093\n",
       "Name: Full or Part-Time, dtype: int64"
      ]
     },
     "execution_count": 28,
     "metadata": {},
     "output_type": "execute_result"
    }
   ],
   "source": [
    "# Q2: How many full time employees are there?\n",
    "# Q3: How many part time employees are there?\n",
    "df['Full or Part-Time'].value_counts() # Full or Part time"
   ]
  },
  {
   "cell_type": "code",
   "execution_count": 30,
   "id": "1910a1ef",
   "metadata": {
    "slideshow": {
     "slide_type": "fragment"
    }
   },
   "outputs": [],
   "source": [
    "# Q5: How many detectives? - how could we find this out?"
   ]
  },
  {
   "cell_type": "code",
   "execution_count": 33,
   "id": "7ed96ac4",
   "metadata": {
    "slideshow": {
     "slide_type": "fragment"
    }
   },
   "outputs": [
    {
     "data": {
      "text/plain": [
       "POLICE OFFICER                            9520\n",
       "SERGEANT                                  1202\n",
       "POLICE OFFICER (ASSIGNED AS DETECTIVE)     989\n",
       "Name: Job Titles, dtype: int64"
      ]
     },
     "execution_count": 33,
     "metadata": {},
     "output_type": "execute_result"
    }
   ],
   "source": [
    "df[df.Department == 'POLICE']['Job Titles'].value_counts().head(3)"
   ]
  },
  {
   "cell_type": "markdown",
   "id": "b499a221",
   "metadata": {
    "slideshow": {
     "slide_type": "slide"
    }
   },
   "source": [
    "## Apply\n",
    "Think about the following question:\n",
    "\n",
    "Q7: How common is the most common last name? Which is it?\n",
    "\n",
    "This was tough before. Why?\n",
    "\n",
    "Remember how names are stored in the database. What do we want to do with them?"
   ]
  },
  {
   "cell_type": "code",
   "execution_count": 35,
   "id": "9c84a586",
   "metadata": {},
   "outputs": [
    {
     "data": {
      "text/plain": [
       "0      AARON,  JEFFERY M\n",
       "1        AARON,  KARINA \n",
       "2    AARON,  KIMBERLEI R\n",
       "3    ABAD JR,  VICENTE M\n",
       "4      ABASCAL,  REECE E\n",
       "Name: Name, dtype: object"
      ]
     },
     "execution_count": 35,
     "metadata": {},
     "output_type": "execute_result"
    }
   ],
   "source": [
    "df['Name'].head()"
   ]
  },
  {
   "cell_type": "markdown",
   "id": "44030d41",
   "metadata": {
    "slideshow": {
     "slide_type": "fragment"
    }
   },
   "source": [
    "We just want the first name. Pandas has a super powerful tool which allows us to write a function and apply it to each row of our dataset."
   ]
  },
  {
   "cell_type": "markdown",
   "id": "4633bf74",
   "metadata": {
    "slideshow": {
     "slide_type": "slide"
    }
   },
   "source": [
    "**Apply example**"
   ]
  },
  {
   "cell_type": "code",
   "execution_count": 87,
   "id": "30fbff5d",
   "metadata": {
    "slideshow": {
     "slide_type": "fragment"
    }
   },
   "outputs": [
    {
     "data": {
      "text/plain": [
       "0     NaN\n",
       "1     NaN\n",
       "2     NaN\n",
       "3     NaN\n",
       "4    20.0\n",
       "Name: Typical Hours, dtype: float64"
      ]
     },
     "metadata": {},
     "output_type": "display_data"
    },
    {
     "data": {
      "text/plain": [
       "0         NaN\n",
       "1         NaN\n",
       "2         NaN\n",
       "3         NaN\n",
       "4    4.472136\n",
       "Name: Typical Hours, dtype: float64"
      ]
     },
     "execution_count": 87,
     "metadata": {},
     "output_type": "execute_result"
    }
   ],
   "source": [
    "display(df['Typical Hours'].head(5))\n",
    "df['Typical Hours'].apply(np.sqrt).head(5) # What's the function I've used?"
   ]
  },
  {
   "cell_type": "markdown",
   "id": "d8f39cf3",
   "metadata": {
    "slideshow": {
     "slide_type": "slide"
    }
   },
   "source": [
    "**More interesting example**\n",
    "What do we need our function to do with this input? AARON,  JEFFERY M.\n",
    "\n",
    "Let's pause and write this together."
   ]
  },
  {
   "cell_type": "code",
   "execution_count": 108,
   "id": "89eb8fb3",
   "metadata": {
    "slideshow": {
     "slide_type": "fragment"
    }
   },
   "outputs": [
    {
     "data": {
      "text/plain": [
       "33178    ZYLINSKA,  KATARZYNA \n",
       "33179       ZYMANTAS,  LAURA C\n",
       "33180        ZYMANTAS,  MARK E\n",
       "33181      ZYRKOWSKI,  CARLO E\n",
       "33182     ZYSKOWSKI,  DARIUSZ \n",
       "Name: Name, dtype: object"
      ]
     },
     "metadata": {},
     "output_type": "display_data"
    },
    {
     "data": {
      "text/plain": [
       "33178    KATARZYNA\n",
       "33179        LAURA\n",
       "33180         MARK\n",
       "33181        CARLO\n",
       "33182      DARIUSZ\n",
       "Name: Name, dtype: object"
      ]
     },
     "execution_count": 108,
     "metadata": {},
     "output_type": "execute_result"
    }
   ],
   "source": [
    "def get_first_name(name):\n",
    "    first_middle = name.split(', ')[1]\n",
    "    first = first_middle.strip().split(' ')[0]\n",
    "    return first\n",
    "display(df.Name.tail(5))\n",
    "df.Name.tail(5).apply(get_first_name)"
   ]
  },
  {
   "cell_type": "markdown",
   "id": "50469105",
   "metadata": {
    "slideshow": {
     "slide_type": "fragment"
    }
   },
   "source": [
    "We want to know the most common first name. What should we do?"
   ]
  },
  {
   "cell_type": "code",
   "execution_count": 113,
   "id": "f7930b96",
   "metadata": {
    "slideshow": {
     "slide_type": "fragment"
    }
   },
   "outputs": [],
   "source": [
    "df['First Name'] = df.Name.apply(get_first_name) #Make a new column called First Name"
   ]
  },
  {
   "cell_type": "code",
   "execution_count": 114,
   "id": "0769d27c",
   "metadata": {
    "slideshow": {
     "slide_type": "fragment"
    }
   },
   "outputs": [
    {
     "data": {
      "text/plain": [
       "MICHAEL    1151\n",
       "Name: First Name, dtype: int64"
      ]
     },
     "execution_count": 114,
     "metadata": {},
     "output_type": "execute_result"
    }
   ],
   "source": [
    "df['First Name'].value_counts().head(1) # What's the answer?"
   ]
  },
  {
   "cell_type": "markdown",
   "id": "744aa903",
   "metadata": {
    "slideshow": {
     "slide_type": "slide"
    }
   },
   "source": [
    "**Working with strings** Another way to work with string columns is through the .str\n",
    "attribute. For example:"
   ]
  },
  {
   "cell_type": "code",
   "execution_count": 118,
   "id": "d38a8b43",
   "metadata": {
    "slideshow": {
     "slide_type": "fragment"
    }
   },
   "outputs": [
    {
     "data": {
      "text/plain": [
       "0    False\n",
       "1     True\n",
       "2    False\n",
       "3    False\n",
       "4    False\n",
       "Name: Job Titles, dtype: bool"
      ]
     },
     "execution_count": 118,
     "metadata": {},
     "output_type": "execute_result"
    }
   ],
   "source": [
    "(df['Job Titles'].str.find('DETECTIVE') >= 0).head(5)"
   ]
  },
  {
   "cell_type": "markdown",
   "id": "542f0ff8",
   "metadata": {
    "slideshow": {
     "slide_type": "fragment"
    }
   },
   "source": [
    "How could we find how many detectives?"
   ]
  },
  {
   "cell_type": "code",
   "execution_count": 117,
   "id": "5f71cffa",
   "metadata": {
    "slideshow": {
     "slide_type": "fragment"
    }
   },
   "outputs": [
    {
     "data": {
      "text/plain": [
       "989"
      ]
     },
     "execution_count": 117,
     "metadata": {},
     "output_type": "execute_result"
    }
   ],
   "source": [
    "(df['Job Titles'].str.find('DETECTIVE') > 0).sum()"
   ]
  },
  {
   "cell_type": "markdown",
   "id": "f1a60619",
   "metadata": {
    "slideshow": {
     "slide_type": "slide"
    }
   },
   "source": [
    "**Salaries** We also needed to change the salaries from a string $19000 to a float (19000.0). How?"
   ]
  },
  {
   "cell_type": "code",
   "execution_count": 124,
   "id": "aa44d26c",
   "metadata": {
    "slideshow": {
     "slide_type": "fragment"
    }
   },
   "outputs": [
    {
     "data": {
      "text/plain": [
       "0    101442.0\n",
       "1     94122.0\n",
       "2    101592.0\n",
       "3    110064.0\n",
       "4         NaN\n",
       "Name: Num Salary, dtype: float64"
      ]
     },
     "execution_count": 124,
     "metadata": {},
     "output_type": "execute_result"
    }
   ],
   "source": [
    "df['Num Salary'] = df['Annual Salary'].str[1:].astype(float)\n",
    "df['Num Salary'].head(5) #What's the mean?"
   ]
  },
  {
   "cell_type": "code",
   "execution_count": 126,
   "id": "a80b1cde",
   "metadata": {
    "slideshow": {
     "slide_type": "fragment"
    }
   },
   "outputs": [
    {
     "data": {
      "text/plain": [
       "count     25161.000000\n",
       "mean      86786.999790\n",
       "std       21041.354602\n",
       "min        7200.000000\n",
       "25%       76266.000000\n",
       "50%       90024.000000\n",
       "75%       96060.000000\n",
       "max      300000.000000\n",
       "Name: Num Salary, dtype: float64"
      ]
     },
     "execution_count": 126,
     "metadata": {},
     "output_type": "execute_result"
    }
   ],
   "source": [
    "df['Num Salary'].describe()"
   ]
  },
  {
   "cell_type": "markdown",
   "id": "34be9395",
   "metadata": {
    "slideshow": {
     "slide_type": "fragment"
    }
   },
   "source": [
    "And let's sort to find the top."
   ]
  },
  {
   "cell_type": "code",
   "execution_count": 127,
   "id": "c09a0f0f",
   "metadata": {},
   "outputs": [
    {
     "data": {
      "text/html": [
       "<div>\n",
       "<style scoped>\n",
       "    .dataframe tbody tr th:only-of-type {\n",
       "        vertical-align: middle;\n",
       "    }\n",
       "\n",
       "    .dataframe tbody tr th {\n",
       "        vertical-align: top;\n",
       "    }\n",
       "\n",
       "    .dataframe thead th {\n",
       "        text-align: right;\n",
       "    }\n",
       "</style>\n",
       "<table border=\"1\" class=\"dataframe\">\n",
       "  <thead>\n",
       "    <tr style=\"text-align: right;\">\n",
       "      <th></th>\n",
       "      <th>Name</th>\n",
       "      <th>Job Titles</th>\n",
       "      <th>Department</th>\n",
       "      <th>Full or Part-Time</th>\n",
       "      <th>Salary or Hourly</th>\n",
       "      <th>Typical Hours</th>\n",
       "      <th>Annual Salary</th>\n",
       "      <th>Hourly Rate</th>\n",
       "      <th>First Name</th>\n",
       "      <th>Num Salary</th>\n",
       "    </tr>\n",
       "  </thead>\n",
       "  <tbody>\n",
       "    <tr>\n",
       "      <th>8439</th>\n",
       "      <td>EVANS,  GINGER S</td>\n",
       "      <td>COMMISSIONER OF AVIATION</td>\n",
       "      <td>AVIATION</td>\n",
       "      <td>F</td>\n",
       "      <td>Salary</td>\n",
       "      <td>NaN</td>\n",
       "      <td>$300000.00</td>\n",
       "      <td>NaN</td>\n",
       "      <td>GINGER</td>\n",
       "      <td>300000.0</td>\n",
       "    </tr>\n",
       "    <tr>\n",
       "      <th>14221</th>\n",
       "      <td>JOHNSON,  EDDIE T</td>\n",
       "      <td>SUPERINTENDENT OF POLICE</td>\n",
       "      <td>POLICE</td>\n",
       "      <td>F</td>\n",
       "      <td>Salary</td>\n",
       "      <td>NaN</td>\n",
       "      <td>$260004.00</td>\n",
       "      <td>NaN</td>\n",
       "      <td>EDDIE</td>\n",
       "      <td>260004.0</td>\n",
       "    </tr>\n",
       "    <tr>\n",
       "      <th>8198</th>\n",
       "      <td>EMANUEL,  RAHM</td>\n",
       "      <td>MAYOR</td>\n",
       "      <td>MAYOR'S OFFICE</td>\n",
       "      <td>F</td>\n",
       "      <td>Salary</td>\n",
       "      <td>NaN</td>\n",
       "      <td>$216210.00</td>\n",
       "      <td>NaN</td>\n",
       "      <td>RAHM</td>\n",
       "      <td>216210.0</td>\n",
       "    </tr>\n",
       "    <tr>\n",
       "      <th>26424</th>\n",
       "      <td>SANTIAGO,  JOSE A</td>\n",
       "      <td>FIRE COMMISSIONER</td>\n",
       "      <td>FIRE</td>\n",
       "      <td>F</td>\n",
       "      <td>Salary</td>\n",
       "      <td>NaN</td>\n",
       "      <td>$202728.00</td>\n",
       "      <td>NaN</td>\n",
       "      <td>JOSE</td>\n",
       "      <td>202728.0</td>\n",
       "    </tr>\n",
       "    <tr>\n",
       "      <th>9226</th>\n",
       "      <td>FORD II,  RICHARD C</td>\n",
       "      <td>FIRST DEPUTY FIRE COMMISSIONER</td>\n",
       "      <td>FIRE</td>\n",
       "      <td>F</td>\n",
       "      <td>Salary</td>\n",
       "      <td>NaN</td>\n",
       "      <td>$197736.00</td>\n",
       "      <td>NaN</td>\n",
       "      <td>RICHARD</td>\n",
       "      <td>197736.0</td>\n",
       "    </tr>\n",
       "    <tr>\n",
       "      <th>...</th>\n",
       "      <td>...</td>\n",
       "      <td>...</td>\n",
       "      <td>...</td>\n",
       "      <td>...</td>\n",
       "      <td>...</td>\n",
       "      <td>...</td>\n",
       "      <td>...</td>\n",
       "      <td>...</td>\n",
       "      <td>...</td>\n",
       "      <td>...</td>\n",
       "    </tr>\n",
       "    <tr>\n",
       "      <th>33164</th>\n",
       "      <td>ZUREK,  FRANCIS</td>\n",
       "      <td>ELECTRICAL MECHANIC</td>\n",
       "      <td>OEMC</td>\n",
       "      <td>F</td>\n",
       "      <td>Hourly</td>\n",
       "      <td>40.0</td>\n",
       "      <td>NaN</td>\n",
       "      <td>$46.10</td>\n",
       "      <td>FRANCIS</td>\n",
       "      <td>NaN</td>\n",
       "    </tr>\n",
       "    <tr>\n",
       "      <th>33168</th>\n",
       "      <td>ZWARYCZ MANN,  IRENE A</td>\n",
       "      <td>CROSSING GUARD</td>\n",
       "      <td>OEMC</td>\n",
       "      <td>P</td>\n",
       "      <td>Hourly</td>\n",
       "      <td>20.0</td>\n",
       "      <td>NaN</td>\n",
       "      <td>$17.68</td>\n",
       "      <td>IRENE</td>\n",
       "      <td>NaN</td>\n",
       "    </tr>\n",
       "    <tr>\n",
       "      <th>33169</th>\n",
       "      <td>ZWARYCZ,  THOMAS J</td>\n",
       "      <td>POOL MOTOR TRUCK DRIVER</td>\n",
       "      <td>WATER MGMNT</td>\n",
       "      <td>F</td>\n",
       "      <td>Hourly</td>\n",
       "      <td>40.0</td>\n",
       "      <td>NaN</td>\n",
       "      <td>$35.60</td>\n",
       "      <td>THOMAS</td>\n",
       "      <td>NaN</td>\n",
       "    </tr>\n",
       "    <tr>\n",
       "      <th>33174</th>\n",
       "      <td>ZYGADLO,  JOHN P</td>\n",
       "      <td>MACHINIST (AUTOMOTIVE)</td>\n",
       "      <td>GENERAL SERVICES</td>\n",
       "      <td>F</td>\n",
       "      <td>Hourly</td>\n",
       "      <td>40.0</td>\n",
       "      <td>NaN</td>\n",
       "      <td>$46.35</td>\n",
       "      <td>JOHN</td>\n",
       "      <td>NaN</td>\n",
       "    </tr>\n",
       "    <tr>\n",
       "      <th>33175</th>\n",
       "      <td>ZYGADLO,  MICHAEL J</td>\n",
       "      <td>FRM OF MACHINISTS - AUTOMOTIVE</td>\n",
       "      <td>GENERAL SERVICES</td>\n",
       "      <td>F</td>\n",
       "      <td>Hourly</td>\n",
       "      <td>40.0</td>\n",
       "      <td>NaN</td>\n",
       "      <td>$48.85</td>\n",
       "      <td>MICHAEL</td>\n",
       "      <td>NaN</td>\n",
       "    </tr>\n",
       "  </tbody>\n",
       "</table>\n",
       "<p>33183 rows × 10 columns</p>\n",
       "</div>"
      ],
      "text/plain": [
       "                         Name                      Job Titles  \\\n",
       "8439         EVANS,  GINGER S        COMMISSIONER OF AVIATION   \n",
       "14221       JOHNSON,  EDDIE T        SUPERINTENDENT OF POLICE   \n",
       "8198          EMANUEL,  RAHM                            MAYOR   \n",
       "26424       SANTIAGO,  JOSE A               FIRE COMMISSIONER   \n",
       "9226      FORD II,  RICHARD C  FIRST DEPUTY FIRE COMMISSIONER   \n",
       "...                       ...                             ...   \n",
       "33164        ZUREK,  FRANCIS              ELECTRICAL MECHANIC   \n",
       "33168  ZWARYCZ MANN,  IRENE A                  CROSSING GUARD   \n",
       "33169      ZWARYCZ,  THOMAS J         POOL MOTOR TRUCK DRIVER   \n",
       "33174        ZYGADLO,  JOHN P          MACHINIST (AUTOMOTIVE)   \n",
       "33175     ZYGADLO,  MICHAEL J  FRM OF MACHINISTS - AUTOMOTIVE   \n",
       "\n",
       "             Department Full or Part-Time Salary or Hourly  Typical Hours  \\\n",
       "8439           AVIATION                 F           Salary            NaN   \n",
       "14221            POLICE                 F           Salary            NaN   \n",
       "8198     MAYOR'S OFFICE                 F           Salary            NaN   \n",
       "26424              FIRE                 F           Salary            NaN   \n",
       "9226               FIRE                 F           Salary            NaN   \n",
       "...                 ...               ...              ...            ...   \n",
       "33164              OEMC                 F           Hourly           40.0   \n",
       "33168              OEMC                 P           Hourly           20.0   \n",
       "33169       WATER MGMNT                 F           Hourly           40.0   \n",
       "33174  GENERAL SERVICES                 F           Hourly           40.0   \n",
       "33175  GENERAL SERVICES                 F           Hourly           40.0   \n",
       "\n",
       "      Annual Salary Hourly Rate First Name  Num Salary  \n",
       "8439     $300000.00         NaN     GINGER    300000.0  \n",
       "14221    $260004.00         NaN      EDDIE    260004.0  \n",
       "8198     $216210.00         NaN       RAHM    216210.0  \n",
       "26424    $202728.00         NaN       JOSE    202728.0  \n",
       "9226     $197736.00         NaN    RICHARD    197736.0  \n",
       "...             ...         ...        ...         ...  \n",
       "33164           NaN      $46.10    FRANCIS         NaN  \n",
       "33168           NaN      $17.68      IRENE         NaN  \n",
       "33169           NaN      $35.60     THOMAS         NaN  \n",
       "33174           NaN      $46.35       JOHN         NaN  \n",
       "33175           NaN      $48.85    MICHAEL         NaN  \n",
       "\n",
       "[33183 rows x 10 columns]"
      ]
     },
     "execution_count": 127,
     "metadata": {},
     "output_type": "execute_result"
    }
   ],
   "source": [
    "df.sort_values('Num Salary',ascending=False)"
   ]
  },
  {
   "cell_type": "markdown",
   "id": "dc241297",
   "metadata": {
    "slideshow": {
     "slide_type": "slide"
    }
   },
   "source": [
    "**Cutting data** We can ask Pandas to group data for us, and set it directly as a variable to work with."
   ]
  },
  {
   "cell_type": "code",
   "execution_count": 133,
   "id": "25d5113f",
   "metadata": {
    "slideshow": {
     "slide_type": "fragment"
    }
   },
   "outputs": [
    {
     "data": {
      "text/plain": [
       "0        (100000.0, 200000.0]\n",
       "1             (0.0, 100000.0]\n",
       "2        (100000.0, 200000.0]\n",
       "3        (100000.0, 200000.0]\n",
       "4                         NaN\n",
       "                 ...         \n",
       "33178         (0.0, 100000.0]\n",
       "33179         (0.0, 100000.0]\n",
       "33180         (0.0, 100000.0]\n",
       "33181         (0.0, 100000.0]\n",
       "33182    (100000.0, 200000.0]\n",
       "Name: Num Salary, Length: 33183, dtype: category\n",
       "Categories (3, interval[int64, right]): [(0, 100000] < (100000, 200000] < (200000, 300000]]"
      ]
     },
     "execution_count": 133,
     "metadata": {},
     "output_type": "execute_result"
    }
   ],
   "source": [
    "pd.cut(df['Num Salary'],[0, 100000, 200000, 300000]) # Note I passed a list of groups"
   ]
  },
  {
   "cell_type": "code",
   "execution_count": 137,
   "id": "8bc0a7eb",
   "metadata": {
    "slideshow": {
     "slide_type": "fragment"
    }
   },
   "outputs": [
    {
     "data": {
      "text/plain": [
       "0        medium\n",
       "1           low\n",
       "2        medium\n",
       "3        medium\n",
       "4           NaN\n",
       "          ...  \n",
       "33178       low\n",
       "33179       low\n",
       "33180       low\n",
       "33181       low\n",
       "33182    medium\n",
       "Name: Num Salary, Length: 33183, dtype: category\n",
       "Categories (3, object): ['low' < 'medium' < 'high']"
      ]
     },
     "execution_count": 137,
     "metadata": {},
     "output_type": "execute_result"
    }
   ],
   "source": [
    "pd.cut(df['Num Salary'], [0, 100000, 200000, 300000], labels=['low', 'medium', 'high']) # Or with labels as well!"
   ]
  }
 ],
 "metadata": {
  "celltoolbar": "Slideshow",
  "kernelspec": {
   "display_name": "Python 3 (ipykernel)",
   "language": "python",
   "name": "python3"
  },
  "language_info": {
   "codemirror_mode": {
    "name": "ipython",
    "version": 3
   },
   "file_extension": ".py",
   "mimetype": "text/x-python",
   "name": "python",
   "nbconvert_exporter": "python",
   "pygments_lexer": "ipython3",
   "version": "3.10.5"
  }
 },
 "nbformat": 4,
 "nbformat_minor": 5
}
