{
 "cells": [
  {
   "cell_type": "markdown",
   "id": "26fc6b4f",
   "metadata": {
    "slideshow": {
     "slide_type": "slide"
    }
   },
   "source": [
    "# Introduction to Data Science for Public Policy\n",
    "## Class 4: Loops\n",
    "## Thomas Monk"
   ]
  },
  {
   "cell_type": "markdown",
   "id": "d622d0c8",
   "metadata": {
    "slideshow": {
     "slide_type": "slide"
    }
   },
   "source": [
    "**Recap**. Let's start with Question 1 in the Problem Set - this will give us some practice with dictionaries. Download the problem set and the assignment whilst we're there. Then we'll move on to loops.\n",
    "\n",
    "**Plan for today**.\n",
    "\n",
    "After the loop slides, we're going to practice these immediately in Problem Set 1.\n",
    "\n",
    "Then, we'll move on the assignment (using real data!). This will allow us to practice all the skills we've learnt so far."
   ]
  },
  {
   "cell_type": "markdown",
   "id": "22f93647",
   "metadata": {
    "slideshow": {
     "slide_type": "slide"
    }
   },
   "source": [
    "To answer some questions that came up yesterday.\n",
    "\n",
    "**1**. We can use `zip()` to convert lists to dicts."
   ]
  },
  {
   "cell_type": "code",
   "execution_count": 1,
   "id": "d895925a",
   "metadata": {
    "slideshow": {
     "slide_type": "fragment"
    }
   },
   "outputs": [
    {
     "name": "stdout",
     "output_type": "stream",
     "text": [
      "{'Apple': 0.35, 'Pear': 0.4, 'Peach': 0.4, 'Banana': 0.28}\n"
     ]
    }
   ],
   "source": [
    "fruits = [\"Apple\", \"Pear\", \"Peach\", \"Banana\"]\n",
    "prices = [0.35, 0.40, 0.40, 0.28]\n",
    "\n",
    "fruit_dictionary = dict(zip(fruits, prices))\n",
    "\n",
    "print(fruit_dictionary)"
   ]
  },
  {
   "cell_type": "markdown",
   "id": "07778252",
   "metadata": {
    "slideshow": {
     "slide_type": "slide"
    }
   },
   "source": [
    "**2.** Printing keys and values."
   ]
  },
  {
   "cell_type": "code",
   "execution_count": 6,
   "id": "5dac7c19",
   "metadata": {
    "slideshow": {
     "slide_type": "fragment"
    }
   },
   "outputs": [
    {
     "name": "stdout",
     "output_type": "stream",
     "text": [
      "Alabama is also known as AL\n",
      "Alaska is also known as AK\n",
      "Arizona is also known as AZ\n",
      "Arkansas is also known as AR\n",
      "California is also known as CA\n",
      "Colorado is also known as CO\n",
      "Connecticut is also known as CT\n",
      "Delaware is also known as DE\n",
      "Florida is also known as FL\n",
      "Georgia is also known as GA\n",
      "Hawaii is also known as HI\n",
      "Idaho is also known as ID\n",
      "Illinois is also known as IL\n",
      "Indiana is also known as IN\n",
      "Iowa is also known as IA\n",
      "Kansas is also known as KS\n",
      "Kentucky is also known as KY\n",
      "Louisiana is also known as LA\n",
      "Maine is also known as ME\n",
      "Maryland is also known as MD\n",
      "Massachusetts is also known as MA\n",
      "Michigan is also known as MI\n",
      "Minnesota is also known as MN\n",
      "Mississippi is also known as MS\n",
      "Missouri is also known as MO\n",
      "Montana is also known as MT\n",
      "Nebraska is also known as NE\n",
      "Nevada is also known as NV\n",
      "New Hampshire is also known as NH\n",
      "New Jersey is also known as NJ\n",
      "New Mexico is also known as NM\n",
      "New York is also known as NY\n",
      "North Carolina is also known as NC\n",
      "North Dakota is also known as ND\n",
      "Ohio is also known as OH\n",
      "Oklahoma is also known as OK\n",
      "Oregon is also known as OR\n",
      "Pennsylvania is also known as PA\n",
      "Rhode Island is also known as RI\n",
      "South Carolina is also known as SC\n",
      "South Dakota is also known as SD\n",
      "Tennessee is also known as TN\n",
      "Texas is also known as TX\n",
      "Utah is also known as UT\n",
      "Vermont is also known as VT\n",
      "Virginia is also known as VA\n",
      "Washington is also known as WA\n",
      "West Virginia is also known as WV\n",
      "Wisconsin is also known as WI\n",
      "Wyoming is also known as WY\n",
      "District of Columbia is also known as DC\n",
      "American Samoa is also known as AS\n",
      "Guam is also known as GU\n",
      "Northern Mariana Islands is also known as MP\n",
      "Puerto Rico is also known as PR\n",
      "United States Minor Outlying Islands is also known as UM\n",
      "U.S. Virgin Islands is also known as VI\n"
     ]
    }
   ],
   "source": [
    "us_state_to_abbrev = {\"Alabama\": \"AL\",\"Alaska\": \"AK\",\"Arizona\": \"AZ\",\"Arkansas\": \"AR\",\"California\": \"CA\",\"Colorado\": \"CO\",\"Connecticut\": \"CT\",\"Delaware\": \"DE\",\"Florida\": \"FL\",\"Georgia\": \"GA\",\"Hawaii\": \"HI\",\"Idaho\": \"ID\",\"Illinois\": \"IL\",\"Indiana\": \"IN\",\"Iowa\": \"IA\",\"Kansas\": \"KS\",\"Kentucky\": \"KY\",\"Louisiana\": \"LA\",\"Maine\": \"ME\",\"Maryland\": \"MD\",\"Massachusetts\": \"MA\",\"Michigan\": \"MI\",\"Minnesota\": \"MN\",\"Mississippi\": \"MS\",\"Missouri\": \"MO\",\"Montana\": \"MT\",\"Nebraska\": \"NE\",\"Nevada\": \"NV\",\"New Hampshire\": \"NH\",\"New Jersey\": \"NJ\",\"New Mexico\": \"NM\",\"New York\": \"NY\",\"North Carolina\": \"NC\",\"North Dakota\": \"ND\",\"Ohio\": \"OH\",\"Oklahoma\": \"OK\",\"Oregon\": \"OR\",\"Pennsylvania\": \"PA\",\"Rhode Island\": \"RI\",\"South Carolina\": \"SC\",\"South Dakota\": \"SD\",\"Tennessee\": \"TN\",\"Texas\": \"TX\",\"Utah\": \"UT\",\"Vermont\": \"VT\",\"Virginia\": \"VA\",\"Washington\": \"WA\",\"West Virginia\": \"WV\",\"Wisconsin\": \"WI\",\"Wyoming\": \"WY\",\"District of Columbia\": \"DC\",\"American Samoa\": \"AS\",\"Guam\": \"GU\",\"Northern Mariana Islands\": \"MP\",\"Puerto Rico\": \"PR\",\"United States Minor Outlying Islands\": \"UM\",\"U.S. Virgin Islands\": \"VI\",}\n",
    "\n",
    "for key, value in us_state_to_abbrev.items():\n",
    "    print(key, \"is also known as\", value)"
   ]
  },
  {
   "cell_type": "markdown",
   "id": "da29ff13",
   "metadata": {
    "slideshow": {
     "slide_type": "slide"
    }
   },
   "source": [
    "# Loops\n",
    "\n",
    "Loops are another big part of controlling the flow of a program, along with conditionals.\n",
    "\n",
    "You'll notice that they play really nicely with lists and dicts, and are part of the **programming intuition** I want you to develop.\n",
    "\n",
    "Hopefully we can start thinking in terms of loops - in terms of *automation* of tasks."
   ]
  },
  {
   "cell_type": "markdown",
   "id": "f198846d",
   "metadata": {
    "slideshow": {
     "slide_type": "slide"
    }
   },
   "source": [
    "What is a loop? A loop is just a way to repeatedly execute some code.\n",
    "\n",
    "Loops aren't absent from Stata, we're just deterred from thinking in that way as variables aren't readily accessible!\n",
    "\n",
    "Look at the example below - notice the *syntax*."
   ]
  },
  {
   "cell_type": "code",
   "execution_count": 8,
   "id": "c39756df",
   "metadata": {
    "slideshow": {
     "slide_type": "fragment"
    }
   },
   "outputs": [
    {
     "name": "stdout",
     "output_type": "stream",
     "text": [
      "Mercury Venus Earth Mars Jupiter Saturn Uranus Neptune "
     ]
    }
   ],
   "source": [
    "planets = ['Mercury', 'Venus', 'Earth', 'Mars', 'Jupiter', 'Saturn', 'Uranus', 'Neptune']\n",
    "for planet in planets:\n",
    "    print(planet,end=' ') # What's the end argument doing here?"
   ]
  },
  {
   "cell_type": "markdown",
   "id": "c22fb152",
   "metadata": {
    "slideshow": {
     "slide_type": "fragment"
    }
   },
   "source": [
    "The `for` loop iterates through each member of the list `planets`. Each iteration of the loop redefines our variable `planet` with the current item. "
   ]
  },
  {
   "cell_type": "markdown",
   "id": "d9739e2f",
   "metadata": {
    "slideshow": {
     "slide_type": "slide"
    }
   },
   "source": [
    "Let's count with a loop - we'll use the `range` function."
   ]
  },
  {
   "cell_type": "code",
   "execution_count": 14,
   "id": "0f1dfae2",
   "metadata": {
    "slideshow": {
     "slide_type": "fragment"
    }
   },
   "outputs": [
    {
     "name": "stdout",
     "output_type": "stream",
     "text": [
      "0 1 2 3 4 5 6 7 8 9 "
     ]
    }
   ],
   "source": [
    "for x in range(10):\n",
    "  print(x, end=\" \")"
   ]
  },
  {
   "cell_type": "markdown",
   "id": "671c6033",
   "metadata": {
    "slideshow": {
     "slide_type": "fragment"
    }
   },
   "source": [
    "Range gives us a set of values to iterate over. Remember Python uses zero-indexing, so we have 10 items which start at 0!"
   ]
  },
  {
   "cell_type": "markdown",
   "id": "9bfeca8b",
   "metadata": {
    "slideshow": {
     "slide_type": "slide"
    }
   },
   "source": [
    "We can even iterate through a string with a for loop, iterating through the characters."
   ]
  },
  {
   "cell_type": "code",
   "execution_count": 15,
   "id": "bf4cc0af",
   "metadata": {
    "slideshow": {
     "slide_type": "fragment"
    }
   },
   "outputs": [
    {
     "name": "stdout",
     "output_type": "stream",
     "text": [
      "HELLO"
     ]
    }
   ],
   "source": [
    "s = 'steganograpHy is the practicE of conceaLing a file, message, image, or video within another fiLe, message, image, Or video.'\n",
    "msg = ''\n",
    "# print all the uppercase letters in s, one at a time\n",
    "for char in s:\n",
    "    if char.isupper():\n",
    "        print(char, end='')    "
   ]
  },
  {
   "cell_type": "markdown",
   "id": "ac8b908e",
   "metadata": {
    "slideshow": {
     "slide_type": "slide"
    }
   },
   "source": [
    "`while` loops are another type of loop.\n",
    "\n",
    "Instead of looping through a set of given items, these repeat the code within the loop **while** a condition is true."
   ]
  },
  {
   "cell_type": "code",
   "execution_count": 17,
   "id": "b1264a85",
   "metadata": {
    "slideshow": {
     "slide_type": "fragment"
    }
   },
   "outputs": [
    {
     "name": "stdout",
     "output_type": "stream",
     "text": [
      "0 1 2 3 4 5 6 7 8 9 "
     ]
    }
   ],
   "source": [
    "i = 0\n",
    "while i < 10:\n",
    "    print(i, end=' ')\n",
    "    i += 1 # increase the value of i by 1"
   ]
  },
  {
   "cell_type": "markdown",
   "id": "b3b5ae95",
   "metadata": {
    "slideshow": {
     "slide_type": "fragment"
    }
   },
   "source": [
    "We were able to count exactly as the for loop above, just using a different type of loop.\n",
    "\n",
    "Notice we defined our own iterator here - `i` - which we used throughout the loop."
   ]
  },
  {
   "cell_type": "markdown",
   "id": "b3ae3bdb",
   "metadata": {
    "slideshow": {
     "slide_type": "slide"
    }
   },
   "source": [
    "## List comprehensions - semi-advanced\n",
    "List comprehensions are a cool unique feature of Python - they could make your life easier if you understand them - or you can ignore them completely!\n",
    "\n",
    "They mix loops and lists together."
   ]
  },
  {
   "cell_type": "code",
   "execution_count": 20,
   "id": "b6edea30",
   "metadata": {
    "slideshow": {
     "slide_type": "fragment"
    }
   },
   "outputs": [
    {
     "data": {
      "text/plain": [
       "[0, 1, 4, 9, 16, 25, 36, 49, 64, 81]"
      ]
     },
     "execution_count": 20,
     "metadata": {},
     "output_type": "execute_result"
    }
   ],
   "source": [
    "squares = [n**2 for n in range(10)]\n",
    "squares"
   ]
  },
  {
   "cell_type": "markdown",
   "id": "cb1624d0",
   "metadata": {},
   "source": [
    "Notice that we've just built a list from a loop on a **single line**. How could we have done this otherwise?"
   ]
  },
  {
   "cell_type": "code",
   "execution_count": 22,
   "id": "15aedc0a",
   "metadata": {
    "slideshow": {
     "slide_type": "fragment"
    }
   },
   "outputs": [
    {
     "data": {
      "text/plain": [
       "[0, 1, 4, 9, 16, 25, 36, 49, 64, 81]"
      ]
     },
     "execution_count": 22,
     "metadata": {},
     "output_type": "execute_result"
    }
   ],
   "source": [
    "squares = []\n",
    "for n in range(10):\n",
    "    squares.append(n**2)\n",
    "squares"
   ]
  },
  {
   "cell_type": "markdown",
   "id": "bb0c2225",
   "metadata": {
    "slideshow": {
     "slide_type": "slide"
    }
   },
   "source": [
    "We can also add an if condition:"
   ]
  },
  {
   "cell_type": "code",
   "execution_count": 23,
   "id": "fb1242f9",
   "metadata": {
    "slideshow": {
     "slide_type": "fragment"
    }
   },
   "outputs": [
    {
     "data": {
      "text/plain": [
       "['Venus', 'Earth', 'Mars']"
      ]
     },
     "execution_count": 23,
     "metadata": {},
     "output_type": "execute_result"
    }
   ],
   "source": [
    "short_planets = [planet for planet in planets if len(planet) < 6]\n",
    "short_planets"
   ]
  },
  {
   "cell_type": "markdown",
   "id": "455d457e",
   "metadata": {
    "slideshow": {
     "slide_type": "fragment"
    }
   },
   "source": [
    "Here's an example of filtering with an if condition and applying some transformation to the loop variable:"
   ]
  },
  {
   "cell_type": "code",
   "execution_count": 24,
   "id": "e6183807",
   "metadata": {},
   "outputs": [
    {
     "data": {
      "text/plain": [
       "['VENUS!', 'EARTH!', 'MARS!']"
      ]
     },
     "execution_count": 24,
     "metadata": {},
     "output_type": "execute_result"
    }
   ],
   "source": [
    "loud_short_planets = [planet.upper() + '!' for planet in planets if len(planet) < 6]\n",
    "loud_short_planets"
   ]
  },
  {
   "cell_type": "markdown",
   "id": "596772a8",
   "metadata": {},
   "source": [
    "This can get tricky and complex! But it can be very useful."
   ]
  }
 ],
 "metadata": {
  "celltoolbar": "Slideshow",
  "kernelspec": {
   "display_name": "Python 3 (ipykernel)",
   "language": "python",
   "name": "python3"
  },
  "language_info": {
   "codemirror_mode": {
    "name": "ipython",
    "version": 3
   },
   "file_extension": ".py",
   "mimetype": "text/x-python",
   "name": "python",
   "nbconvert_exporter": "python",
   "pygments_lexer": "ipython3",
   "version": "3.10.5"
  }
 },
 "nbformat": 4,
 "nbformat_minor": 5
}
