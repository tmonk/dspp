{
 "cells": [
  {
   "cell_type": "markdown",
   "id": "26fc6b4f",
   "metadata": {
    "slideshow": {
     "slide_type": "slide"
    }
   },
   "source": [
    "# Introduction to Data Science for Public Policy\n",
    "## Class 3c: Loops\n",
    "## Thomas Monk"
   ]
  },
  {
   "cell_type": "markdown",
   "id": "da29ff13",
   "metadata": {
    "slideshow": {
     "slide_type": "slide"
    }
   },
   "source": [
    "# Loops\n",
    "\n",
    "Loops are another big part of controlling the flow of a program, along with conditionals.\n",
    "\n",
    "You'll notice that they play really nicely with lists and dicts, and are part of the **programming intuition** I want you to develop.\n",
    "\n",
    "Hopefully we can start thinking in terms of loops - in terms of *automation* of tasks."
   ]
  },
  {
   "cell_type": "markdown",
   "id": "f198846d",
   "metadata": {
    "slideshow": {
     "slide_type": "slide"
    }
   },
   "source": [
    "What is a loop? A loop is just a way to repeatedly execute some code.\n",
    "\n",
    "Loops aren't absent from Stata, we're just deterred from thinking in that way as variables aren't readily accessible!\n",
    "\n",
    "Look at the example below - notice the *syntax*."
   ]
  },
  {
   "cell_type": "code",
   "execution_count": 8,
   "id": "c39756df",
   "metadata": {
    "slideshow": {
     "slide_type": "fragment"
    }
   },
   "outputs": [
    {
     "name": "stdout",
     "output_type": "stream",
     "text": [
      "Mercury Venus Earth Mars Jupiter Saturn Uranus Neptune "
     ]
    }
   ],
   "source": [
    "planets = ['Mercury', 'Venus', 'Earth', 'Mars', 'Jupiter', 'Saturn', 'Uranus', 'Neptune']\n",
    "for planet in planets:\n",
    "    print(planet,end=' ') # What's the end argument doing here?"
   ]
  },
  {
   "cell_type": "markdown",
   "id": "c22fb152",
   "metadata": {
    "slideshow": {
     "slide_type": "fragment"
    }
   },
   "source": [
    "The `for` loop iterates through each member of the list `planets`. Each iteration of the loop redefines our variable `planet` with the current item. "
   ]
  },
  {
   "cell_type": "markdown",
   "id": "d9739e2f",
   "metadata": {
    "slideshow": {
     "slide_type": "slide"
    }
   },
   "source": [
    "Let's count with a loop - we'll use the `range` function."
   ]
  },
  {
   "cell_type": "code",
   "execution_count": 14,
   "id": "0f1dfae2",
   "metadata": {
    "slideshow": {
     "slide_type": "fragment"
    }
   },
   "outputs": [
    {
     "name": "stdout",
     "output_type": "stream",
     "text": [
      "0 1 2 3 4 5 6 7 8 9 "
     ]
    }
   ],
   "source": [
    "for x in range(10):\n",
    "  print(x, end=\" \")"
   ]
  },
  {
   "cell_type": "markdown",
   "id": "671c6033",
   "metadata": {
    "slideshow": {
     "slide_type": "fragment"
    }
   },
   "source": [
    "Range gives us a set of values to iterate over. Remember Python uses zero-indexing, so we have 10 items which start at 0!"
   ]
  },
  {
   "cell_type": "markdown",
   "id": "9bfeca8b",
   "metadata": {
    "slideshow": {
     "slide_type": "slide"
    }
   },
   "source": [
    "We can even iterate through a string with a for loop, iterating through the characters."
   ]
  },
  {
   "cell_type": "code",
   "execution_count": 15,
   "id": "bf4cc0af",
   "metadata": {
    "slideshow": {
     "slide_type": "fragment"
    }
   },
   "outputs": [
    {
     "name": "stdout",
     "output_type": "stream",
     "text": [
      "HELLO"
     ]
    }
   ],
   "source": [
    "s = 'steganograpHy is the practicE of conceaLing a file, message, image, or video within another fiLe, message, image, Or video.'\n",
    "msg = ''\n",
    "# print all the uppercase letters in s, one at a time\n",
    "for char in s:\n",
    "    if char.isupper():\n",
    "        print(char, end='')    "
   ]
  },
  {
   "cell_type": "markdown",
   "id": "ac8b908e",
   "metadata": {
    "slideshow": {
     "slide_type": "slide"
    }
   },
   "source": [
    "`while` loops are another type of loop.\n",
    "\n",
    "Instead of looping through a set of given items, these repeat the code within the loop **while** a condition is true."
   ]
  },
  {
   "cell_type": "code",
   "execution_count": 17,
   "id": "b1264a85",
   "metadata": {
    "slideshow": {
     "slide_type": "fragment"
    }
   },
   "outputs": [
    {
     "name": "stdout",
     "output_type": "stream",
     "text": [
      "0 1 2 3 4 5 6 7 8 9 "
     ]
    }
   ],
   "source": [
    "i = 0\n",
    "while i < 10:\n",
    "    print(i, end=' ')\n",
    "    i += 1 # increase the value of i by 1"
   ]
  },
  {
   "cell_type": "markdown",
   "id": "b3b5ae95",
   "metadata": {
    "slideshow": {
     "slide_type": "fragment"
    }
   },
   "source": [
    "We were able to count exactly as the for loop above, just using a different type of loop.\n",
    "\n",
    "Notice we defined our own iterator here - `i` - which we used throughout the loop."
   ]
  },
  {
   "cell_type": "markdown",
   "id": "b3ae3bdb",
   "metadata": {
    "slideshow": {
     "slide_type": "slide"
    }
   },
   "source": [
    "## List comprehensions - semi-advanced\n",
    "List comprehensions are a cool unique feature of Python - they could make your life easier if you understand them - or you can ignore them completely!\n",
    "\n",
    "They mix loops and lists together."
   ]
  },
  {
   "cell_type": "code",
   "execution_count": 20,
   "id": "b6edea30",
   "metadata": {
    "slideshow": {
     "slide_type": "fragment"
    }
   },
   "outputs": [
    {
     "data": {
      "text/plain": [
       "[0, 1, 4, 9, 16, 25, 36, 49, 64, 81]"
      ]
     },
     "execution_count": 20,
     "metadata": {},
     "output_type": "execute_result"
    }
   ],
   "source": [
    "squares = [n**2 for n in range(10)]\n",
    "squares"
   ]
  },
  {
   "cell_type": "markdown",
   "id": "cb1624d0",
   "metadata": {},
   "source": [
    "Notice that we've just built a list from a loop on a **single line**. How could we have done this otherwise?"
   ]
  },
  {
   "cell_type": "code",
   "execution_count": 22,
   "id": "15aedc0a",
   "metadata": {
    "slideshow": {
     "slide_type": "fragment"
    }
   },
   "outputs": [
    {
     "data": {
      "text/plain": [
       "[0, 1, 4, 9, 16, 25, 36, 49, 64, 81]"
      ]
     },
     "execution_count": 22,
     "metadata": {},
     "output_type": "execute_result"
    }
   ],
   "source": [
    "squares = []\n",
    "for n in range(10):\n",
    "    squares.append(n**2)\n",
    "squares"
   ]
  },
  {
   "cell_type": "markdown",
   "id": "bb0c2225",
   "metadata": {
    "slideshow": {
     "slide_type": "slide"
    }
   },
   "source": [
    "We can also add an if condition:"
   ]
  },
  {
   "cell_type": "code",
   "execution_count": 23,
   "id": "fb1242f9",
   "metadata": {
    "slideshow": {
     "slide_type": "fragment"
    }
   },
   "outputs": [
    {
     "data": {
      "text/plain": [
       "['Venus', 'Earth', 'Mars']"
      ]
     },
     "execution_count": 23,
     "metadata": {},
     "output_type": "execute_result"
    }
   ],
   "source": [
    "short_planets = [planet for planet in planets if len(planet) < 6]\n",
    "short_planets"
   ]
  },
  {
   "cell_type": "markdown",
   "id": "455d457e",
   "metadata": {
    "slideshow": {
     "slide_type": "fragment"
    }
   },
   "source": [
    "Here's an example of filtering with an if condition and applying some transformation to the loop variable:"
   ]
  },
  {
   "cell_type": "code",
   "execution_count": 24,
   "id": "e6183807",
   "metadata": {},
   "outputs": [
    {
     "data": {
      "text/plain": [
       "['VENUS!', 'EARTH!', 'MARS!']"
      ]
     },
     "execution_count": 24,
     "metadata": {},
     "output_type": "execute_result"
    }
   ],
   "source": [
    "loud_short_planets = [planet.upper() + '!' for planet in planets if len(planet) < 6]\n",
    "loud_short_planets"
   ]
  },
  {
   "cell_type": "markdown",
   "id": "596772a8",
   "metadata": {},
   "source": [
    "This can get tricky and complex! But it can be very useful."
   ]
  }
 ],
 "metadata": {
  "celltoolbar": "Slideshow",
  "kernelspec": {
   "display_name": "Python 3 (ipykernel)",
   "language": "python",
   "name": "python3"
  },
  "language_info": {
   "codemirror_mode": {
    "name": "ipython",
    "version": 3
   },
   "file_extension": ".py",
   "mimetype": "text/x-python",
   "name": "python",
   "nbconvert_exporter": "python",
   "pygments_lexer": "ipython3",
   "version": "3.9.12"
  }
 },
 "nbformat": 4,
 "nbformat_minor": 5
}
