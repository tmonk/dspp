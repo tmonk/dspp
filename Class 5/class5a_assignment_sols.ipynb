{
 "cells": [
  {
   "cell_type": "code",
   "execution_count": null,
   "id": "b3a129ea",
   "metadata": {},
   "outputs": [],
   "source": [
    "## PART A CODE GOES HERE\n",
    "# Place all the required functions here and run!\n",
    "\n",
    "# A.1: Parse the included salaries.csv file.\n",
    "# Your parser should split each line on ',' and return a nested list \n",
    "# where each element is itself a list of fields. \n",
    "# Additionally you should ignore/remove the first (header) line.\n",
    "def read_salaries():\n",
    "    data = []\n",
    "    first = True\n",
    "    for line in open('salaries.csv'):\n",
    "        if not first:\n",
    "            line = line[:-1]\n",
    "            row = line.split(',')\n",
    "            salary = row[-2]\n",
    "            \n",
    "            # if salary string is non-empty\n",
    "            if len(salary) > 0:\n",
    "                # remove the dollar sign and convert to float\n",
    "                row[-2] = float(salary[1:])\n",
    "\n",
    "            # remove the initial quote from the last name\n",
    "            row[0] = row[0][1:]\n",
    "            # remove the first two spaces and final quote from the first name,\n",
    "            # then split on space and take the first word\n",
    "            row[1] = row[1][2:-1].split(' ')[0]\n",
    "\n",
    "            data.append(row)\n",
    "        else:\n",
    "            first = False\n",
    "    return data\n",
    "\n",
    "# A.2: Given a 2d list data and an integer column_index \n",
    "# return a 1d list of values for that column.\n",
    "def get_column(data, column_index):\n",
    "    column = []\n",
    "    for row in data:\n",
    "        column.append(row[column_index])\n",
    "    return column\n",
    "\n",
    "# A.3: Given a 1d list of `values` (e.g. the result of get_column), \n",
    "# return the number of elements that are equal to `search_value`.\n",
    "def count(values, count_value):\n",
    "    count = 0\n",
    "    for value in values:\n",
    "        if value == count_value:\n",
    "            count = count + 1\n",
    "\n",
    "    return count\n",
    "\n",
    "# A.4: Given a 1d list values (e.g. the result of get_column),\n",
    "# return a dictionary of value-count pairs.\n",
    "def counts(values):\n",
    "    d = {}\n",
    "    for value in values:\n",
    "        if value in d:\n",
    "            d[value] = d[value] + 1\n",
    "        else:\n",
    "            d[value] = 1\n",
    "    return d\n",
    "\n",
    "# A.5: Given a dictionary d with numeric values, return a list [key, value] of two elements,\n",
    "# where key is the the key in d with the largest value, and value is it's value. \n",
    "def dict_max_value(d):\n",
    "    max_value = max(d.values())\n",
    "    for key in d:\n",
    "        if d[key] == max_value:\n",
    "            return [key, max_value]\n",
    "\n",
    "# A.6: Given a list of numbers use the built-in functions sum and len to return their mean.\n",
    "def mean(numbers):\n",
    "    return sum(numbers)/len(numbers)\n",
    "\n",
    "# A.7: Given a list of numbers calculate the median.\n",
    "def median(numbers):\n",
    "    sorted_numbers = sorted(numbers)\n",
    "    index = len(numbers)/2\n",
    "    int_index = int(index)\n",
    "\n",
    "    if index == int_index:\n",
    "        return (sorted_numbers[int_index-1] + sorted_numbers[int_index])/2\n",
    "    else:\n",
    "        return sorted_numbers[int_index]\n"
   ]
  },
  {
   "cell_type": "code",
   "execution_count": null,
   "id": "635f3b3c",
   "metadata": {},
   "outputs": [],
   "source": [
    "# Q1: How many employees does the city have?\n",
    "data = read_salaries()\n",
    "print(len(data))"
   ]
  },
  {
   "cell_type": "code",
   "execution_count": null,
   "id": "6ff06174",
   "metadata": {},
   "outputs": [],
   "source": [
    "# Q2: How many full time employees are there?\n",
    "data = read_salaries()\n",
    "\n",
    "\n",
    "employee_type = get_column(data, 4) # get employee type (full or part-time)\n",
    "print(count(employee_type, 'F'))    # print full-time count"
   ]
  },
  {
   "cell_type": "code",
   "execution_count": null,
   "id": "7bea6be1",
   "metadata": {},
   "outputs": [],
   "source": [
    "# Q3: How many part time employees are there?\n",
    "data = read_salaries()\n",
    "\n",
    "employee_type = get_column(data, 4) # get employee type (full or part-time)\n",
    "print(count(employee_type, 'P'))    # print full-time count"
   ]
  },
  {
   "cell_type": "code",
   "execution_count": null,
   "id": "b742172e",
   "metadata": {},
   "outputs": [],
   "source": [
    "# Q4: How many employees are in the police department?\n",
    "data = read_salaries()\n",
    "\n",
    "departments = get_column(data, 3)\n",
    "print(count(departments, 'POLICE'))"
   ]
  },
  {
   "cell_type": "code",
   "execution_count": null,
   "id": "69d9360f",
   "metadata": {},
   "outputs": [],
   "source": [
    "# Q5: How many detectives?\n",
    "data = read_salaries()\n",
    "\n",
    "positions = get_column(data, 2) # get positions\n",
    "print(count(positions, 'POLICE OFFICER (ASSIGNED AS DETECTIVE)')) # print police detective count"
   ]
  },
  {
   "cell_type": "code",
   "execution_count": null,
   "id": "a2fd3b1e",
   "metadata": {},
   "outputs": [],
   "source": [
    "# Q6: How big is the largest department? Which one is it?\n",
    "\n",
    "data = read_salaries() \n",
    "departments = get_column(data, 3) # get department column\n",
    "counts = counts(departments)       # count departments\n",
    "\n",
    "print(dict_max_value(counts))     # print maximum"
   ]
  },
  {
   "cell_type": "code",
   "execution_count": null,
   "id": "b9a438d6",
   "metadata": {},
   "outputs": [],
   "source": [
    "# Q7: How common is the most common last name? Which is it?\n",
    "\n",
    "data = read_salaries()\n",
    "names = get_column(data, 1)   # get first names\n",
    "counts = counts(names)         # count them\n",
    "\n",
    "print(dict_max_value(counts)) # print maximum"
   ]
  },
  {
   "cell_type": "code",
   "execution_count": null,
   "id": "6528a95e",
   "metadata": {},
   "outputs": [],
   "source": [
    "# Q8: What are the minimum, mean, median, and maximum salaries?\n",
    "data = read_salaries()\n",
    "\n",
    "salaries = []\n",
    "# get non-empty salaries from the data\n",
    "for row in data:\n",
    "    if row[-2] != '':\n",
    "        salaries.append(row[-2])\n",
    "\n",
    "print('Minimum:', min(salaries))\n",
    "print('Mean:', helper.mean(salaries))\n",
    "print('Median:', helper.median(salaries))\n",
    "print('Maximum:', max(salaries))"
   ]
  }
 ],
 "metadata": {
  "kernelspec": {
   "display_name": "Python 3 (ipykernel)",
   "language": "python",
   "name": "python3"
  },
  "language_info": {
   "codemirror_mode": {
    "name": "ipython",
    "version": 3
   },
   "file_extension": ".py",
   "mimetype": "text/x-python",
   "name": "python",
   "nbconvert_exporter": "python",
   "pygments_lexer": "ipython3",
   "version": "3.10.5"
  }
 },
 "nbformat": 4,
 "nbformat_minor": 5
}
