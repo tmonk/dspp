{
 "cells": [
  {
   "cell_type": "markdown",
   "id": "263a7fcb",
   "metadata": {},
   "source": [
    "# Problem Set 1\n",
    "#### with thanks to Alexis Cook\n",
    "We're going to do some basic numerical and variable manipulation in this first problem set.\n",
    "\n",
    "Don't worry about the details of the code for now - the end result is just that the all of the titanic data has been loaded in a variable named `titanic_data`. We're going to learn the data part (Pandas) later on!\n",
    "\n",
    "Run the first cell below before you do anything else.\n",
    "\n",
    "This problem set is very quick, to get us used to running notebooks and manipulating variables."
   ]
  },
  {
   "cell_type": "code",
   "execution_count": null,
   "id": "6897fb8f",
   "metadata": {},
   "outputs": [],
   "source": [
    "# Load the Titanic data\n",
    "import pandas as pd\n",
    "titanic_data = pd.read_csv(\"class2_titanic.csv\")\n",
    "\n",
    "# Show the first five rows of the data\n",
    "titanic_data.head()"
   ]
  },
  {
   "cell_type": "code",
   "execution_count": null,
   "id": "de9f3cf3",
   "metadata": {},
   "outputs": [],
   "source": [
    "# Number of total passengers\n",
    "total = len(titanic_data)\n",
    "print(total)\n",
    "\n",
    "# Number of passengers who survived\n",
    "survived = (titanic_data.Survived == 1).sum()\n",
    "print(survived)\n",
    "\n",
    "# Number of passengers under 18\n",
    "minors = (titanic_data.Age < 18).sum()\n",
    "print(minors)"
   ]
  },
  {
   "cell_type": "markdown",
   "id": "0ae9bce6",
   "metadata": {},
   "source": [
    "So, \n",
    "- `total = 891` (there were 891 passengers on board the Titanic),\n",
    "- `survived = 342` (342 passengers survived), and \n",
    "- `minors = 113` (113 passengers were under the age of 18).\n",
    "\n",
    "In the code cell below, replace the underlines (`____`) with code to calculate the values for two more variables:\n",
    "- `survived_fraction` should be set to the fraction of passengers who survived the Titanic disaster.\n",
    "- `minors_fraction` should be the fraction of passengers who were minors (under the age of 18).\n",
    "\n",
    "For each variable, your answer should be a number between 0 and 1.  "
   ]
  },
  {
   "cell_type": "code",
   "execution_count": null,
   "id": "e56def10",
   "metadata": {},
   "outputs": [],
   "source": [
    "# TODO: Fill in the value of the survived_fraction variable\n",
    "survived_fraction = ____ \n",
    "\n",
    "# Print the value of the variable\n",
    "print(survived_fraction)\n",
    "\n",
    "# TODO: Fill in the value of the minors_fraction variable\n",
    "minors_fraction = ____ \n",
    "\n",
    "# Print the value of the variable\n",
    "print(minors_fraction)"
   ]
  },
  {
   "cell_type": "code",
   "execution_count": null,
   "id": "c9e37ce9",
   "metadata": {},
   "outputs": [],
   "source": []
  }
 ],
 "metadata": {
  "kernelspec": {
   "display_name": "Python 3",
   "language": "python",
   "name": "python3"
  },
  "language_info": {
   "codemirror_mode": {
    "name": "ipython",
    "version": 3
   },
   "file_extension": ".py",
   "mimetype": "text/x-python",
   "name": "python",
   "nbconvert_exporter": "python",
   "pygments_lexer": "ipython3",
   "version": "3.9.7"
  }
 },
 "nbformat": 4,
 "nbformat_minor": 5
}
