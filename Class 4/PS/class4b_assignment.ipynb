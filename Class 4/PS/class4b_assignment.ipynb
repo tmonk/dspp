{
 "cells": [
  {
   "cell_type": "markdown",
   "id": "33628744",
   "metadata": {},
   "source": [
    "# Assignment 3: Data Manipulation with Python\n",
    "## with thanks to Eric Potash\n",
    "\n",
    "This assignment is challenging and will take us some time - **work together**! It will be far more difficult if you go it alone.\n",
    "\n",
    "Feel free to take it home today and work on it.\n",
    "\n",
    "It's designed to allow us to practice everything we've learnt so far. It's far easier to learn by doing than by listening to me speak.\n",
    "\n",
    "In this assignment we look at Chicago's employee salary file using Python. You may only use built-in python functions in this assignment (so no `pandas` or `numpy` if you're already familiar with those)."
   ]
  },
  {
   "cell_type": "markdown",
   "id": "46265ddd",
   "metadata": {},
   "source": [
    "### Hint"
   ]
  },
  {
   "cell_type": "markdown",
   "id": "8adac07e",
   "metadata": {},
   "source": [
    "We can open a file (i.e. the csv file here through the open() function."
   ]
  },
  {
   "cell_type": "code",
   "execution_count": null,
   "id": "cbe02c11",
   "metadata": {},
   "outputs": [],
   "source": [
    "file = open('salaries.csv')"
   ]
  },
  {
   "cell_type": "markdown",
   "id": "84aacdd8",
   "metadata": {},
   "source": [
    "We can loop through the lines of the file like so:"
   ]
  },
  {
   "cell_type": "code",
   "execution_count": null,
   "id": "5a3e1f80",
   "metadata": {
    "scrolled": true
   },
   "outputs": [],
   "source": [
    "num_lines = 5 # The number of lines to show - for example purposes only!\n",
    "i = 0\n",
    "for line in file:\n",
    "    if i < num_lines:\n",
    "        print(line)\n",
    "    i = i + 1"
   ]
  },
  {
   "cell_type": "markdown",
   "id": "98b09228",
   "metadata": {},
   "source": [
    "## Part A: Helpers\n",
    "Write the following 7 functions. You will use them later to complete part B. We can place these at the start of our file.\n",
    "\n",
    "1. `read_salaries()`: Parse the included `salaries.csv` file. Your parser should:\n",
    "\n",
    "  - Split each line on `','` and return a nested list where each element is itself a list of fields.\n",
    "  - Ignore/remove the first (header) line.\n",
    "  - Remove the dollar sign from the salary field.\n",
    "  -   Return a 2d list, `data`.\n",
    "\n",
    "2. `get_column(data, column_index)`: Given a 2d list `data` and an integer `column_index` (e.g. 0 for last name, 3 for department), return a (one dimensional) list of values for that column.\n",
    "\n",
    "3. `count(values, search_value)`: Given a 1d list of `values` (e.g. the result of `get_column`), return the number of elements that are equal to `search_value`.\n",
    "\n",
    "4. `counts(values)`: Given a 1d list `values` (e.g. the result of `get_column`), return a dictionary of value-count pairs. (i.e two answer a question such as what is the most popular occupation?).\n",
    "\n",
    "5. `dict_max_value(d)`: Given a dictionary `d` with numeric values, return a list `[key, value]` of two elements, where `key` is the the key in `d` with the largest value, and `value` is it's value.\n",
    "\n",
    "6. `my_mean(numbers)`: given a list of numbers use the built-in functions `sum` and `len` to return their mean.\n",
    "\n",
    "7. `my_median(numbers)`: given a list of numbers calculate the median.\n",
    "\n",
    "    Your median function should *not* modify `numbers` inplace. Use the following logic for when `len(numbers)` is even: If `len(numbers)` is odd, take the middle element in the sorted list. If 'len(numbers)' is even, there will be two adjacent \"middle\" elements in the sorted list. Take the average between them.\n",
    "\n",
    "## B: Analysis of salaries\n",
    "Use our helper functions that we wrote above to solve the following questions!\n",
    "\n",
    "B.1: How many employees does the city have?\n",
    "\n",
    "B.2: How many full time employees? Hint: use `get_column()` and `count()` above.\n",
    "\n",
    "B.3: How many part-time employees?\n",
    "\n",
    "B.4: How many employees in the police department?\n",
    "\n",
    "B.5: How many detectives?\n",
    "\n",
    "B.6: What is the largest department?\n",
    "\n",
    "Do the following additional analysis:\n",
    "\n",
    "B.7: What is the most common first name? Again, `q7` is written for you. What you'll need to do is modify the parser:\n",
    "\n",
    "Note that when you split on ',' in your parser, you separated the employee first and last and first names. However, there will be a double quote at the beginning of the last name field and the end of the first name field. So update `helper.read_salaries` to:\n",
    "\n",
    "- Remove the quotation marks.\n",
    "- Remove extra white space from the beginning of the first name field.\n",
    "- If the first name field has a middle name, remove it.\n",
    "    - Hint: Split on ' ' and keep the first element.\n",
    "\n",
    "For example, this line from `salaries.csv`:\n",
    "\n",
    "```\n",
    "\"AARON,  JEFFERY M\",SERGEANT,POLICE,F,Salary,,$101442.00,\n",
    "```\n",
    "\n",
    "Becomes:\n",
    "\n",
    "```\n",
    "['AARON', 'JEFFERY', 'SERGEANT', 'POLICE', 'F', 'Salary', '', 101442.0, '']\n",
    "```\n",
    "B.8: What are the minimum, mean, median, and maximum salaries?\n",
    "\n",
    "`q8` is partially written for you. You'll need to get the salaries from the data, ignoring/removing those that are empty (wage workers). You'll also need to update `helper.read_salaries` to convert salaries, when present, to a number. Hint: first remove the dollar sign and then use the type conversion function `float`.\n"
   ]
  },
  {
   "cell_type": "code",
   "execution_count": 14,
   "id": "cd97baa3",
   "metadata": {},
   "outputs": [],
   "source": [
    "## PART A CODE GOES HERE\n",
    "# Place all the required functions here and run!"
   ]
  },
  {
   "cell_type": "code",
   "execution_count": null,
   "id": "08b6f014",
   "metadata": {},
   "outputs": [],
   "source": [
    "# Q1: How many employees does the city have?\n",
    "data = read_salaries()"
   ]
  },
  {
   "cell_type": "code",
   "execution_count": null,
   "id": "44e4393c",
   "metadata": {},
   "outputs": [],
   "source": [
    "# Q2: How many full time employees are there?\n",
    "data = read_salaries()"
   ]
  },
  {
   "cell_type": "code",
   "execution_count": null,
   "id": "d06325c5",
   "metadata": {},
   "outputs": [],
   "source": [
    "# Q3: How many part time employees are there?\n",
    "data = read_salaries()"
   ]
  },
  {
   "cell_type": "code",
   "execution_count": null,
   "id": "929423d7",
   "metadata": {},
   "outputs": [],
   "source": [
    "# Q4: How many employees are in the police department?\n",
    "data = read_salaries()"
   ]
  },
  {
   "cell_type": "code",
   "execution_count": null,
   "id": "f915f744",
   "metadata": {},
   "outputs": [],
   "source": [
    "# Q5: How many detectives?\n",
    "data = read_salaries()"
   ]
  },
  {
   "cell_type": "code",
   "execution_count": null,
   "id": "810dd109",
   "metadata": {},
   "outputs": [],
   "source": [
    "# Q6: How big is the largest department? Which one is it?\n",
    "\n",
    "data = read_salaries() \n",
    "departments = get_column(data, 3) # get department column\n",
    "counts = counts(departments)       # count departments\n",
    "\n",
    "print(dict_max_value(counts))     # print maximum"
   ]
  },
  {
   "cell_type": "code",
   "execution_count": null,
   "id": "c9e606be",
   "metadata": {},
   "outputs": [],
   "source": [
    "# Q7: How common is the most common last name? Which is it?\n",
    "\n",
    "data = read_salaries()\n",
    "names = get_column(data, 1)   # get first names\n",
    "counts = counts(names)         # count them\n",
    "\n",
    "print(dict_max_value(counts)) # print maximum"
   ]
  },
  {
   "cell_type": "code",
   "execution_count": null,
   "id": "17848c3d",
   "metadata": {},
   "outputs": [],
   "source": [
    "# Q8: What are the minimum, mean, median, and maximum salaries?\n",
    "data = read_salaries()\n",
    "\n",
    "salaries = []\n",
    "# TODO below: get non-empty salaries from data\n",
    "\n",
    "print('Minimum:', min(salaries))\n",
    "print('Mean:', my_mean(salaries))\n",
    "print('Median:', my_median(salaries))\n",
    "print('Maximum:', max(salaries))"
   ]
  }
 ],
 "metadata": {
  "kernelspec": {
   "display_name": "Python 3 (ipykernel)",
   "language": "python",
   "name": "python3"
  },
  "language_info": {
   "codemirror_mode": {
    "name": "ipython",
    "version": 3
   },
   "file_extension": ".py",
   "mimetype": "text/x-python",
   "name": "python",
   "nbconvert_exporter": "python",
   "pygments_lexer": "ipython3",
   "version": "3.10.5"
  }
 },
 "nbformat": 4,
 "nbformat_minor": 5
}
